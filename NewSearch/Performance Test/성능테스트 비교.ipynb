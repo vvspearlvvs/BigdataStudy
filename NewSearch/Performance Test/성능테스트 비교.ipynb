{
 "cells": [
  {
   "cell_type": "code",
   "execution_count": 1,
   "id": "1639b4d9",
   "metadata": {},
   "outputs": [],
   "source": [
    "import time\n",
    "startTm = time.time()\n",
    "\n",
    "import csv\n",
    "import pandas as pd\n",
    "import pyarrow as pa\n",
    "import pyarrow.parquet as pq\n",
    "import pyarrow.csv as pc"
   ]
  },
  {
   "cell_type": "code",
   "execution_count": 2,
   "id": "eaff4c4d",
   "metadata": {},
   "outputs": [],
   "source": [
    "file = './prodct_name/prodct_name.tsv'"
   ]
  },
  {
   "cell_type": "markdown",
   "id": "403209df",
   "metadata": {},
   "source": [
    "## Read CSV (openfile)"
   ]
  },
  {
   "cell_type": "code",
   "execution_count": 3,
   "id": "34c27290",
   "metadata": {},
   "outputs": [
    {
     "name": "stdout",
     "output_type": "stream",
     "text": [
      "데이터  (999943, 2)\n",
      "Wall time: 2.14 s\n"
     ]
    }
   ],
   "source": [
    "%%time\n",
    "\n",
    "f = open(file, 'r', encoding='utf-8')\n",
    "reader = csv.reader(f,delimiter ='\\t')\n",
    "next(reader) # header삭제\n",
    "datalist = list(reader)\n",
    "f.close()\n",
    "\n",
    "df = pd.DataFrame(datalist)\n",
    "print(\"데이터 \", df.shape)"
   ]
  },
  {
   "cell_type": "markdown",
   "id": "b13625e7",
   "metadata": {},
   "source": [
    "## Read CSV (with open)"
   ]
  },
  {
   "cell_type": "code",
   "execution_count": 4,
   "id": "1a0d9dba",
   "metadata": {},
   "outputs": [
    {
     "name": "stdout",
     "output_type": "stream",
     "text": [
      "데이터  (999943, 2)\n",
      "Wall time: 2.47 s\n"
     ]
    }
   ],
   "source": [
    "%%time\n",
    "\n",
    "datalist = []\n",
    "with open(file,\"r\", encoding='UTF8') as raw_file:\n",
    "    reader = csv.reader(raw_file,delimiter ='\\t')\n",
    "    \n",
    "    next(reader)\n",
    "    for lines in reader:\n",
    "        datalist.append(lines)\n",
    "        \n",
    "df = pd.DataFrame(datalist)\n",
    "print(\"데이터 \", df.shape)"
   ]
  },
  {
   "cell_type": "markdown",
   "id": "2fc91a19",
   "metadata": {},
   "source": [
    "## Pandas"
   ]
  },
  {
   "cell_type": "code",
   "execution_count": 5,
   "id": "7bab4cd8",
   "metadata": {},
   "outputs": [
    {
     "name": "stdout",
     "output_type": "stream",
     "text": [
      "데이터  (999943, 2)\n",
      "Wall time: 1.66 s\n"
     ]
    }
   ],
   "source": [
    "%%time\n",
    "\n",
    "df = pd.read_csv(file, sep='\\t')    \n",
    "print(\"데이터 \", df.shape)"
   ]
  },
  {
   "cell_type": "code",
   "execution_count": 6,
   "id": "26244bf9",
   "metadata": {},
   "outputs": [
    {
     "name": "stdout",
     "output_type": "stream",
     "text": [
      "데이터  (999943, 2)\n",
      "parquet 파일저장\n",
      "Wall time: 5.64 s\n"
     ]
    }
   ],
   "source": [
    "%%time\n",
    "\n",
    "df = pd.read_csv(file, sep='\\t')    \n",
    "print(\"데이터 \", df.shape)\n",
    "\n",
    "df.to_parquet('./performance_data/pandas.parquet', compression='gzip')\n",
    "print(\"parquet 파일저장\" )"
   ]
  },
  {
   "cell_type": "markdown",
   "id": "56293972",
   "metadata": {},
   "source": [
    "## Pyarrow"
   ]
  },
  {
   "cell_type": "code",
   "execution_count": 11,
   "id": "adc3d5fc",
   "metadata": {},
   "outputs": [
    {
     "name": "stdout",
     "output_type": "stream",
     "text": [
      "데이터  (999943, 2)\n",
      "Wall time: 649 ms\n"
     ]
    }
   ],
   "source": [
    "%%time\n",
    "\n",
    "import pyarrow as pa\n",
    "import pyarrow.parquet as pq\n",
    "import pyarrow.csv as pc\n",
    "\n",
    "py_table = pc.read_csv(file, parse_options=pc.ParseOptions(delimiter=\"\\t\")) \n",
    "df=py_table.to_pandas()    \n",
    "print(\"데이터 \", df.shape)"
   ]
  },
  {
   "cell_type": "code",
   "execution_count": 12,
   "id": "6d62f2b3",
   "metadata": {},
   "outputs": [
    {
     "name": "stdout",
     "output_type": "stream",
     "text": [
      "데이터  (999943, 2)\n",
      "parquet 파일저장\n",
      "Wall time: 1.51 s\n"
     ]
    }
   ],
   "source": [
    "%%time\n",
    "py_table = pc.read_csv(file, parse_options=pc.ParseOptions(delimiter=\"\\t\")) \n",
    "df=py_table.to_pandas()    \n",
    "print(\"데이터 \", df.shape)\n",
    "\n",
    "table = pa.Table.from_pandas(df)\n",
    "pq.write_table(table, './performance_data/payarrow.parquet')\n",
    "print(\"parquet 파일저장\")"
   ]
  },
  {
   "cell_type": "code",
   "execution_count": null,
   "id": "64143adc",
   "metadata": {},
   "outputs": [],
   "source": []
  },
  {
   "cell_type": "code",
   "execution_count": 13,
   "id": "07e0f5de",
   "metadata": {},
   "outputs": [
    {
     "name": "stdout",
     "output_type": "stream",
     "text": [
      "Wall time: 948 ms\n"
     ]
    }
   ],
   "source": [
    "%%time\n",
    "data_df = pq.read_table('./performance_data/payarrow.parquet').to_pandas()"
   ]
  },
  {
   "cell_type": "code",
   "execution_count": 14,
   "id": "47cbc889",
   "metadata": {},
   "outputs": [
    {
     "name": "stdout",
     "output_type": "stream",
     "text": [
      "Wall time: 912 ms\n"
     ]
    }
   ],
   "source": [
    "%%time\n",
    "data_df = pq.read_table('./performance_data/pandas.parquet').to_pandas()"
   ]
  },
  {
   "cell_type": "code",
   "execution_count": 9,
   "id": "cd9ac967",
   "metadata": {},
   "outputs": [],
   "source": [
    "### 실행시간 확인 : %%time"
   ]
  },
  {
   "cell_type": "code",
   "execution_count": 10,
   "id": "701c7bac",
   "metadata": {},
   "outputs": [
    {
     "name": "stdout",
     "output_type": "stream",
     "text": [
      "소요시간  0.9163224697113037\n"
     ]
    }
   ],
   "source": [
    "startTm = time.time()\n",
    "\n",
    "py_table = pc.read_csv(file, parse_options=pc.ParseOptions(delimiter=\"\\t\")) #파케이포맷 -> pandas\n",
    "df=py_table.to_pandas()    \n",
    "\n",
    "endTm = time.time()\n",
    "print(\"소요시간 \",endTm-startTm)"
   ]
  },
  {
   "cell_type": "code",
   "execution_count": null,
   "id": "bc6b08c7",
   "metadata": {},
   "outputs": [],
   "source": []
  }
 ],
 "metadata": {
  "kernelspec": {
   "display_name": "Python 3 (ipykernel)",
   "language": "python",
   "name": "python3"
  },
  "language_info": {
   "codemirror_mode": {
    "name": "ipython",
    "version": 3
   },
   "file_extension": ".py",
   "mimetype": "text/x-python",
   "name": "python",
   "nbconvert_exporter": "python",
   "pygments_lexer": "ipython3",
   "version": "3.8.7"
  }
 },
 "nbformat": 4,
 "nbformat_minor": 5
}
