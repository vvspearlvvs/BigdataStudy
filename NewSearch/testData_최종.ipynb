{
 "cells": [
  {
   "cell_type": "code",
   "execution_count": 60,
   "id": "c0ae7957",
   "metadata": {},
   "outputs": [],
   "source": [
    "import pandas as pd\n",
    "import numpy as np\n",
    "import re,json\n",
    "from collections import defaultdict,Counter\n",
    "\n",
    "from sklearn.feature_extraction.text import TfidfVectorizer\n",
    "\n",
    "from IPython.core.interactiveshell import InteractiveShell\n",
    "InteractiveShell.ast_node_interactivity = \"all\""
   ]
  },
  {
   "cell_type": "markdown",
   "id": "3730bb8b",
   "metadata": {},
   "source": [
    "### 테스트 데이터 load"
   ]
  },
  {
   "cell_type": "code",
   "execution_count": 2,
   "id": "f75477a1",
   "metadata": {},
   "outputs": [
    {
     "data": {
      "text/html": [
       "<div>\n",
       "<style scoped>\n",
       "    .dataframe tbody tr th:only-of-type {\n",
       "        vertical-align: middle;\n",
       "    }\n",
       "\n",
       "    .dataframe tbody tr th {\n",
       "        vertical-align: top;\n",
       "    }\n",
       "\n",
       "    .dataframe thead th {\n",
       "        text-align: right;\n",
       "    }\n",
       "</style>\n",
       "<table border=\"1\" class=\"dataframe\">\n",
       "  <thead>\n",
       "    <tr style=\"text-align: right;\">\n",
       "      <th></th>\n",
       "      <th>id</th>\n",
       "      <th>name</th>\n",
       "    </tr>\n",
       "  </thead>\n",
       "  <tbody>\n",
       "    <tr>\n",
       "      <th>0</th>\n",
       "      <td>10</td>\n",
       "      <td>갤럭시 중고폰</td>\n",
       "    </tr>\n",
       "    <tr>\n",
       "      <th>1</th>\n",
       "      <td>11</td>\n",
       "      <td>연예인 지갑 지갑</td>\n",
       "    </tr>\n",
       "    <tr>\n",
       "      <th>2</th>\n",
       "      <td>12</td>\n",
       "      <td>갤럭시s10 갤럭시북 NT950XDZ-G58AW 중고폰</td>\n",
       "    </tr>\n",
       "  </tbody>\n",
       "</table>\n",
       "</div>"
      ],
      "text/plain": [
       "   id                            name\n",
       "0  10                         갤럭시 중고폰\n",
       "1  11                       연예인 지갑 지갑\n",
       "2  12  갤럭시s10 갤럭시북 NT950XDZ-G58AW 중고폰"
      ]
     },
     "execution_count": 2,
     "metadata": {},
     "output_type": "execute_result"
    }
   ],
   "source": [
    "\n",
    "tmp_data = [[10,'갤럭시 중고폰'],[11,'연예인 지갑 지갑'],[12,'갤럭시s10 갤럭시북 NT950XDZ-G58AW 중고폰']]\n",
    "tmp = pd.DataFrame(tmp_data, columns=['id','name'])\n",
    "\n",
    "#tmp=tmp.set_index('id')\n",
    "tmp.head()"
   ]
  },
  {
   "cell_type": "markdown",
   "id": "cb556b99",
   "metadata": {},
   "source": [
    "## 1. 토큰화"
   ]
  },
  {
   "cell_type": "code",
   "execution_count": 3,
   "id": "14da9d30",
   "metadata": {},
   "outputs": [],
   "source": [
    "def tokenizer(data):\n",
    "    #token=[]\n",
    "    token = ''\n",
    "\n",
    "    data = data.lower() #소문자로 변환\n",
    "\n",
    "    words = data.split() #공백으로 분리\n",
    "    #print(\"split \", words)\n",
    "\n",
    "    #규칙에 해당 -> findall\n",
    "    '''\n",
    "    - 공백 기준으로 분리\n",
    "    - 영어는 소문자로 변환\n",
    "    - 공백으로 분리된 텍스트 안에서 다음 규칙으로 토큰을 구분\n",
    "    - 연속된 한글 : [가-힣]+\n",
    "    - 연속된 자모 : [ㄱ-ㅎ|ㅏ-ㅣ]+\n",
    "    - 연속된 영문, 숫자, 하이픈(-) : [a-zA-Z0-9-]+\n",
    "    - 그 외 문자는 묶어서 하나로 취급 : [^ A-Za-z0-9가-힣+] (연속된 특수문자)\n",
    "    '''\n",
    "    p = re.compile(\"[가-힣]+|[ㄱ-ㅎ|ㅏ-ㅣ]+|[0-9a-z]+|[a-z0-9-]+|[^ a-z0-9가-힣+]\") #규칙\n",
    "\n",
    "    for word in words:\n",
    "        find = re.findall(p,word)\n",
    "        for w in find:\n",
    "            token=token+w+'\\n'\n",
    "            #token.append(w)\n",
    "    return token"
   ]
  },
  {
   "cell_type": "code",
   "execution_count": 4,
   "id": "a0dfea89",
   "metadata": {},
   "outputs": [
    {
     "data": {
      "text/html": [
       "<div>\n",
       "<style scoped>\n",
       "    .dataframe tbody tr th:only-of-type {\n",
       "        vertical-align: middle;\n",
       "    }\n",
       "\n",
       "    .dataframe tbody tr th {\n",
       "        vertical-align: top;\n",
       "    }\n",
       "\n",
       "    .dataframe thead th {\n",
       "        text-align: right;\n",
       "    }\n",
       "</style>\n",
       "<table border=\"1\" class=\"dataframe\">\n",
       "  <thead>\n",
       "    <tr style=\"text-align: right;\">\n",
       "      <th></th>\n",
       "      <th>id</th>\n",
       "      <th>name</th>\n",
       "      <th>token</th>\n",
       "    </tr>\n",
       "  </thead>\n",
       "  <tbody>\n",
       "    <tr>\n",
       "      <th>0</th>\n",
       "      <td>10</td>\n",
       "      <td>갤럭시 중고폰</td>\n",
       "      <td>갤럭시\\n중고폰\\n</td>\n",
       "    </tr>\n",
       "    <tr>\n",
       "      <th>1</th>\n",
       "      <td>11</td>\n",
       "      <td>연예인 지갑 지갑</td>\n",
       "      <td>연예인\\n지갑\\n지갑\\n</td>\n",
       "    </tr>\n",
       "    <tr>\n",
       "      <th>2</th>\n",
       "      <td>12</td>\n",
       "      <td>갤럭시s10 갤럭시북 NT950XDZ-G58AW 중고폰</td>\n",
       "      <td>갤럭시\\ns10\\n갤럭시북\\nnt950xdz\\n-g58aw\\n중고폰\\n</td>\n",
       "    </tr>\n",
       "  </tbody>\n",
       "</table>\n",
       "</div>"
      ],
      "text/plain": [
       "   id                            name                                    token\n",
       "0  10                         갤럭시 중고폰                               갤럭시\\n중고폰\\n\n",
       "1  11                       연예인 지갑 지갑                            연예인\\n지갑\\n지갑\\n\n",
       "2  12  갤럭시s10 갤럭시북 NT950XDZ-G58AW 중고폰  갤럭시\\ns10\\n갤럭시북\\nnt950xdz\\n-g58aw\\n중고폰\\n"
      ]
     },
     "execution_count": 4,
     "metadata": {},
     "output_type": "execute_result"
    }
   ],
   "source": [
    "tmp['token']=tmp['name'].apply(tokenizer)\n",
    "tmp.head()"
   ]
  },
  {
   "cell_type": "markdown",
   "id": "4980eb07",
   "metadata": {},
   "source": [
    "## 2.inverted index"
   ]
  },
  {
   "cell_type": "code",
   "execution_count": 5,
   "id": "8c138055",
   "metadata": {},
   "outputs": [
    {
     "data": {
      "text/plain": [
       "[{'id': 10, 'name': '갤럭시 중고폰', 'token': '갤럭시\\n중고폰\\n'},\n",
       " {'id': 11, 'name': '연예인 지갑 지갑', 'token': '연예인\\n지갑\\n지갑\\n'},\n",
       " {'id': 12,\n",
       "  'name': '갤럭시s10 갤럭시북 NT950XDZ-G58AW 중고폰',\n",
       "  'token': '갤럭시\\ns10\\n갤럭시북\\nnt950xdz\\n-g58aw\\n중고폰\\n'}]"
      ]
     },
     "execution_count": 5,
     "metadata": {},
     "output_type": "execute_result"
    }
   ],
   "source": [
    "js = tmp.to_json(orient = 'records')\n",
    "json_data =json.loads(js)\n",
    "json_data"
   ]
  },
  {
   "cell_type": "code",
   "execution_count": 22,
   "id": "c29f0a5a",
   "metadata": {},
   "outputs": [
    {
     "name": "stdout",
     "output_type": "stream",
     "text": [
      "defaultdict(<class 'list'>, {'갤럭시': [10, 12], '중고폰': [10, 12], '연예인': [11], '지갑': [11, 11], 's10': [12], '갤럭시북': [12], 'nt950xdz': [12], '-g58aw': [12]})\n"
     ]
    }
   ],
   "source": [
    "\n",
    "index_dict=defaultdict(list)\n",
    "\n",
    "for data in json_data:\n",
    "    for token in data['token'].split():\n",
    "        if token in data['token']:\n",
    "            if token in index_dict:\n",
    "                index_dict[token].append(data['id'])\n",
    "            else:\n",
    "                index_dict[token]=[data['id']]\n",
    "                \n",
    "print(index_dict)"
   ]
  },
  {
   "cell_type": "markdown",
   "id": "281fc3bc",
   "metadata": {},
   "source": [
    "## 3.tf-idf 적용 (TfidfVectorizer )"
   ]
  },
  {
   "cell_type": "code",
   "execution_count": 8,
   "id": "31372f0a",
   "metadata": {},
   "outputs": [
    {
     "data": {
      "text/plain": [
       "array([[0.        , 0.        , 0.        , 0.70710678, 0.        ,\n",
       "        0.        , 0.70710678, 0.        ],\n",
       "       [0.        , 0.        , 0.        , 0.        , 0.        ,\n",
       "        0.4472136 , 0.        , 0.89442719],\n",
       "       [0.44036207, 0.44036207, 0.44036207, 0.3349067 , 0.44036207,\n",
       "        0.        , 0.3349067 , 0.        ]])"
      ]
     },
     "execution_count": 8,
     "metadata": {},
     "output_type": "execute_result"
    }
   ],
   "source": [
    "## token 많아질수록 벡터의 차원이 커지는 문제\n",
    "## 가장 많이 나온 단어 n개만 사용하는 max_features 파라미터 : TfidfVectorizer(max_features=4)\n",
    "## all_teokn = tmp['token ] : list\n",
    "\n",
    "words=tmp['token']\n",
    "#print(words)\n",
    "\n",
    "vect2 = TfidfVectorizer()\n",
    "tfvect_matrix = vect2.fit_transform(words)\n",
    "tfvect_matrix.toarray()"
   ]
  },
  {
   "cell_type": "code",
   "execution_count": 9,
   "id": "3a0a79ef",
   "metadata": {},
   "outputs": [
    {
     "data": {
      "text/plain": [
       "['g58aw', 'nt950xdz', 's10', '갤럭시', '갤럭시북', '연예인', '중고폰', '지갑']"
      ]
     },
     "execution_count": 9,
     "metadata": {},
     "output_type": "execute_result"
    }
   ],
   "source": [
    "token_tf = vect2.get_feature_names() #유니크한 단어수\n",
    "token_tf"
   ]
  },
  {
   "cell_type": "code",
   "execution_count": 10,
   "id": "57002b58",
   "metadata": {},
   "outputs": [
    {
     "data": {
      "text/html": [
       "<div>\n",
       "<style scoped>\n",
       "    .dataframe tbody tr th:only-of-type {\n",
       "        vertical-align: middle;\n",
       "    }\n",
       "\n",
       "    .dataframe tbody tr th {\n",
       "        vertical-align: top;\n",
       "    }\n",
       "\n",
       "    .dataframe thead th {\n",
       "        text-align: right;\n",
       "    }\n",
       "</style>\n",
       "<table border=\"1\" class=\"dataframe\">\n",
       "  <thead>\n",
       "    <tr style=\"text-align: right;\">\n",
       "      <th></th>\n",
       "      <th>g58aw</th>\n",
       "      <th>nt950xdz</th>\n",
       "      <th>s10</th>\n",
       "      <th>갤럭시</th>\n",
       "      <th>갤럭시북</th>\n",
       "      <th>연예인</th>\n",
       "      <th>중고폰</th>\n",
       "      <th>지갑</th>\n",
       "    </tr>\n",
       "  </thead>\n",
       "  <tbody>\n",
       "    <tr>\n",
       "      <th>10</th>\n",
       "      <td>0.000000</td>\n",
       "      <td>0.000000</td>\n",
       "      <td>0.000000</td>\n",
       "      <td>0.707107</td>\n",
       "      <td>0.000000</td>\n",
       "      <td>0.000000</td>\n",
       "      <td>0.707107</td>\n",
       "      <td>0.000000</td>\n",
       "    </tr>\n",
       "    <tr>\n",
       "      <th>11</th>\n",
       "      <td>0.000000</td>\n",
       "      <td>0.000000</td>\n",
       "      <td>0.000000</td>\n",
       "      <td>0.000000</td>\n",
       "      <td>0.000000</td>\n",
       "      <td>0.447214</td>\n",
       "      <td>0.000000</td>\n",
       "      <td>0.894427</td>\n",
       "    </tr>\n",
       "    <tr>\n",
       "      <th>12</th>\n",
       "      <td>0.440362</td>\n",
       "      <td>0.440362</td>\n",
       "      <td>0.440362</td>\n",
       "      <td>0.334907</td>\n",
       "      <td>0.440362</td>\n",
       "      <td>0.000000</td>\n",
       "      <td>0.334907</td>\n",
       "      <td>0.000000</td>\n",
       "    </tr>\n",
       "  </tbody>\n",
       "</table>\n",
       "</div>"
      ],
      "text/plain": [
       "       g58aw  nt950xdz       s10       갤럭시      갤럭시북       연예인       중고폰  \\\n",
       "10  0.000000  0.000000  0.000000  0.707107  0.000000  0.000000  0.707107   \n",
       "11  0.000000  0.000000  0.000000  0.000000  0.000000  0.447214  0.000000   \n",
       "12  0.440362  0.440362  0.440362  0.334907  0.440362  0.000000  0.334907   \n",
       "\n",
       "          지갑  \n",
       "10  0.000000  \n",
       "11  0.894427  \n",
       "12  0.000000  "
      ]
     },
     "execution_count": 10,
     "metadata": {},
     "output_type": "execute_result"
    }
   ],
   "source": [
    "## tf-idf적용한 결과 df로 생성 \n",
    "\n",
    "tfidv_df = pd.DataFrame(tfvect_matrix.toarray(), columns = sorted(token_tf))\n",
    "tfidv_df.index = list(tmp['id'])\n",
    "tfidv_df"
   ]
  },
  {
   "cell_type": "markdown",
   "id": "0dd2642e",
   "metadata": {},
   "source": [
    "## 4. 검색어(query) 테스트\n",
    "\n",
    "- 입력한 키워드 토큰화 리스트 : q_token\n",
    "- reverted_index로 입력한 quey가 있는 문서id 리스트 리턴  \n",
    "- 문서들의 교집합을 찾음 : q_documents \n",
    "<br><br>\n",
    "- 교집합 문서들의 name : search_dc\n",
    "- 교집합 문서들의 td-idf(score) : search_tf\n",
    "- search_dc와 search_tf merge : search\n",
    "- score기준 내림차순 정렬 \n",
    "<br><br>\n",
    "- 최종결과 response message"
   ]
  },
  {
   "cell_type": "code",
   "execution_count": 29,
   "id": "70182572",
   "metadata": {},
   "outputs": [
    {
     "name": "stdout",
     "output_type": "stream",
     "text": [
      "[10, 12]\n"
     ]
    }
   ],
   "source": [
    "q = \"갤럭시 중고폰\"\n",
    "\n",
    "#입력한 키워드 토큰화 \n",
    "q_token = tokenizer(q).split()\n",
    "#print(q_token)\n",
    "\n",
    "# query가 들어있는 문서id\n",
    "q_documents=[]\n",
    "for tk in q_token:\n",
    "    q_documents.append(set(index_dict[tk])) \n",
    "#print(q_documents)\n",
    "\n",
    "# 문서들의 교집합 \n",
    "query_documents = list(q_documents[0].intersection(*q_documents))\n",
    "print(query_documents)"
   ]
  },
  {
   "cell_type": "code",
   "execution_count": 80,
   "id": "ee26b28f",
   "metadata": {},
   "outputs": [
    {
     "data": {
      "text/html": [
       "<div>\n",
       "<style scoped>\n",
       "    .dataframe tbody tr th:only-of-type {\n",
       "        vertical-align: middle;\n",
       "    }\n",
       "\n",
       "    .dataframe tbody tr th {\n",
       "        vertical-align: top;\n",
       "    }\n",
       "\n",
       "    .dataframe thead th {\n",
       "        text-align: right;\n",
       "    }\n",
       "</style>\n",
       "<table border=\"1\" class=\"dataframe\">\n",
       "  <thead>\n",
       "    <tr style=\"text-align: right;\">\n",
       "      <th></th>\n",
       "      <th>name</th>\n",
       "      <th>token</th>\n",
       "    </tr>\n",
       "    <tr>\n",
       "      <th>id</th>\n",
       "      <th></th>\n",
       "      <th></th>\n",
       "    </tr>\n",
       "  </thead>\n",
       "  <tbody>\n",
       "    <tr>\n",
       "      <th>10</th>\n",
       "      <td>갤럭시 중고폰</td>\n",
       "      <td>갤럭시\\n중고폰\\n</td>\n",
       "    </tr>\n",
       "    <tr>\n",
       "      <th>12</th>\n",
       "      <td>갤럭시s10 갤럭시북 NT950XDZ-G58AW 중고폰</td>\n",
       "      <td>갤럭시\\ns10\\n갤럭시북\\nnt950xdz\\n-g58aw\\n중고폰\\n</td>\n",
       "    </tr>\n",
       "  </tbody>\n",
       "</table>\n",
       "</div>"
      ],
      "text/plain": [
       "                              name                                    token\n",
       "id                                                                         \n",
       "10                         갤럭시 중고폰                               갤럭시\\n중고폰\\n\n",
       "12  갤럭시s10 갤럭시북 NT950XDZ-G58AW 중고폰  갤럭시\\ns10\\n갤럭시북\\nnt950xdz\\n-g58aw\\n중고폰\\n"
      ]
     },
     "execution_count": 80,
     "metadata": {},
     "output_type": "execute_result"
    },
    {
     "data": {
      "text/html": [
       "<div>\n",
       "<style scoped>\n",
       "    .dataframe tbody tr th:only-of-type {\n",
       "        vertical-align: middle;\n",
       "    }\n",
       "\n",
       "    .dataframe tbody tr th {\n",
       "        vertical-align: top;\n",
       "    }\n",
       "\n",
       "    .dataframe thead th {\n",
       "        text-align: right;\n",
       "    }\n",
       "</style>\n",
       "<table border=\"1\" class=\"dataframe\">\n",
       "  <thead>\n",
       "    <tr style=\"text-align: right;\">\n",
       "      <th></th>\n",
       "      <th>갤럭시</th>\n",
       "      <th>중고폰</th>\n",
       "      <th>score</th>\n",
       "    </tr>\n",
       "  </thead>\n",
       "  <tbody>\n",
       "    <tr>\n",
       "      <th>10</th>\n",
       "      <td>0.707107</td>\n",
       "      <td>0.707107</td>\n",
       "      <td>1.414214</td>\n",
       "    </tr>\n",
       "    <tr>\n",
       "      <th>12</th>\n",
       "      <td>0.334907</td>\n",
       "      <td>0.334907</td>\n",
       "      <td>0.669813</td>\n",
       "    </tr>\n",
       "  </tbody>\n",
       "</table>\n",
       "</div>"
      ],
      "text/plain": [
       "         갤럭시       중고폰     score\n",
       "10  0.707107  0.707107  1.414214\n",
       "12  0.334907  0.334907  0.669813"
      ]
     },
     "execution_count": 80,
     "metadata": {},
     "output_type": "execute_result"
    },
    {
     "data": {
      "text/html": [
       "<div>\n",
       "<style scoped>\n",
       "    .dataframe tbody tr th:only-of-type {\n",
       "        vertical-align: middle;\n",
       "    }\n",
       "\n",
       "    .dataframe tbody tr th {\n",
       "        vertical-align: top;\n",
       "    }\n",
       "\n",
       "    .dataframe thead th {\n",
       "        text-align: right;\n",
       "    }\n",
       "</style>\n",
       "<table border=\"1\" class=\"dataframe\">\n",
       "  <thead>\n",
       "    <tr style=\"text-align: right;\">\n",
       "      <th></th>\n",
       "      <th>갤럭시</th>\n",
       "      <th>중고폰</th>\n",
       "      <th>score</th>\n",
       "      <th>name</th>\n",
       "      <th>token</th>\n",
       "      <th>pid</th>\n",
       "    </tr>\n",
       "  </thead>\n",
       "  <tbody>\n",
       "    <tr>\n",
       "      <th>10</th>\n",
       "      <td>0.707107</td>\n",
       "      <td>0.707107</td>\n",
       "      <td>1.414214</td>\n",
       "      <td>갤럭시 중고폰</td>\n",
       "      <td>갤럭시\\n중고폰\\n</td>\n",
       "      <td>10</td>\n",
       "    </tr>\n",
       "    <tr>\n",
       "      <th>12</th>\n",
       "      <td>0.334907</td>\n",
       "      <td>0.334907</td>\n",
       "      <td>0.669813</td>\n",
       "      <td>갤럭시s10 갤럭시북 NT950XDZ-G58AW 중고폰</td>\n",
       "      <td>갤럭시\\ns10\\n갤럭시북\\nnt950xdz\\n-g58aw\\n중고폰\\n</td>\n",
       "      <td>12</td>\n",
       "    </tr>\n",
       "  </tbody>\n",
       "</table>\n",
       "</div>"
      ],
      "text/plain": [
       "         갤럭시       중고폰     score                            name  \\\n",
       "10  0.707107  0.707107  1.414214                         갤럭시 중고폰   \n",
       "12  0.334907  0.334907  0.669813  갤럭시s10 갤럭시북 NT950XDZ-G58AW 중고폰   \n",
       "\n",
       "                                      token  pid  \n",
       "10                               갤럭시\\n중고폰\\n   10  \n",
       "12  갤럭시\\ns10\\n갤럭시북\\nnt950xdz\\n-g58aw\\n중고폰\\n   12  "
      ]
     },
     "execution_count": 80,
     "metadata": {},
     "output_type": "execute_result"
    }
   ],
   "source": [
    "#교집합 문서들의 id,name\n",
    "search_dc = tmp[tmp['id'].isin(query_documents)]\n",
    "search_dc=search_dc.set_index('id')\n",
    "search_dc\n",
    "\n",
    "#교집합 문서들에 대해서 tf-dif(score값)\n",
    "#tfidv_df.loc[query_documents] #교집합문서\n",
    "search_tf = tfidv_df.loc[query_documents][q_token] \n",
    "\n",
    "search_tf['score'] = search_tf.sum(axis=1)\n",
    "search_tf\n",
    "\n",
    "# search_dc와 search_tf joiin (by id)\n",
    "search=search_tf.join(search_dc,how='inner')\n",
    "search['pid']=search.index\n",
    "search.sort_values(by=['score'],ascending=[False],inplace=True) #score기준 정렬\n",
    "search"
   ]
  },
  {
   "cell_type": "code",
   "execution_count": 81,
   "id": "c2db8f02",
   "metadata": {},
   "outputs": [
    {
     "data": {
      "text/html": [
       "<div>\n",
       "<style scoped>\n",
       "    .dataframe tbody tr th:only-of-type {\n",
       "        vertical-align: middle;\n",
       "    }\n",
       "\n",
       "    .dataframe tbody tr th {\n",
       "        vertical-align: top;\n",
       "    }\n",
       "\n",
       "    .dataframe thead th {\n",
       "        text-align: right;\n",
       "    }\n",
       "</style>\n",
       "<table border=\"1\" class=\"dataframe\">\n",
       "  <thead>\n",
       "    <tr style=\"text-align: right;\">\n",
       "      <th></th>\n",
       "      <th>pid</th>\n",
       "      <th>name</th>\n",
       "      <th>score</th>\n",
       "    </tr>\n",
       "  </thead>\n",
       "  <tbody>\n",
       "    <tr>\n",
       "      <th>10</th>\n",
       "      <td>10</td>\n",
       "      <td>갤럭시 중고폰</td>\n",
       "      <td>1.414214</td>\n",
       "    </tr>\n",
       "    <tr>\n",
       "      <th>12</th>\n",
       "      <td>12</td>\n",
       "      <td>갤럭시s10 갤럭시북 NT950XDZ-G58AW 중고폰</td>\n",
       "      <td>0.669813</td>\n",
       "    </tr>\n",
       "  </tbody>\n",
       "</table>\n",
       "</div>"
      ],
      "text/plain": [
       "    pid                            name     score\n",
       "10   10                         갤럭시 중고폰  1.414214\n",
       "12   12  갤럭시s10 갤럭시북 NT950XDZ-G58AW 중고폰  0.669813"
      ]
     },
     "execution_count": 81,
     "metadata": {},
     "output_type": "execute_result"
    },
    {
     "data": {
      "text/plain": [
       "[{'pid': 10, 'name': '갤럭시 중고폰', 'score': 1.4142135624},\n",
       " {'pid': 12, 'name': '갤럭시s10 갤럭시북 NT950XDZ-G58AW 중고폰', 'score': 0.6698134053}]"
      ]
     },
     "execution_count": 81,
     "metadata": {},
     "output_type": "execute_result"
    }
   ],
   "source": [
    "# 최종결과 \n",
    "response = search[['pid','name','score']]\n",
    "response\n",
    "\n",
    "# response msg\n",
    "js = response.to_json(orient='records')\n",
    "res_data =json.loads(js)\n",
    "res_data"
   ]
  },
  {
   "cell_type": "code",
   "execution_count": null,
   "id": "cced213a",
   "metadata": {},
   "outputs": [],
   "source": []
  }
 ],
 "metadata": {
  "kernelspec": {
   "display_name": "Python 3 (ipykernel)",
   "language": "python",
   "name": "python3"
  },
  "language_info": {
   "codemirror_mode": {
    "name": "ipython",
    "version": 3
   },
   "file_extension": ".py",
   "mimetype": "text/x-python",
   "name": "python",
   "nbconvert_exporter": "python",
   "pygments_lexer": "ipython3",
   "version": "3.8.7"
  }
 },
 "nbformat": 4,
 "nbformat_minor": 5
}
