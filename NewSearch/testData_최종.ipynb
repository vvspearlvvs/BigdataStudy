{
 "cells": [
  {
   "cell_type": "code",
   "execution_count": 5,
   "id": "4f3ed938",
   "metadata": {},
   "outputs": [],
   "source": [
    "import pandas as pd\n",
    "import numpy as np\n",
    "import re,json\n",
    "\n",
    "import pyarrow as pa\n",
    "\n",
    "from collections import defaultdict,Counter\n",
    "\n",
    "from sklearn.feature_extraction.text import TfidfVectorizer\n",
    "\n",
    "from IPython.core.interactiveshell import InteractiveShell\n",
    "InteractiveShell.ast_node_interactivity = \"all\""
   ]
  },
  {
   "cell_type": "markdown",
   "id": "6fc625ec",
   "metadata": {},
   "source": [
    "### 테스트 데이터 load"
   ]
  },
  {
   "cell_type": "code",
   "execution_count": 66,
   "id": "9242eb11",
   "metadata": {},
   "outputs": [
    {
     "data": {
      "text/html": [
       "<div>\n",
       "<style scoped>\n",
       "    .dataframe tbody tr th:only-of-type {\n",
       "        vertical-align: middle;\n",
       "    }\n",
       "\n",
       "    .dataframe tbody tr th {\n",
       "        vertical-align: top;\n",
       "    }\n",
       "\n",
       "    .dataframe thead th {\n",
       "        text-align: right;\n",
       "    }\n",
       "</style>\n",
       "<table border=\"1\" class=\"dataframe\">\n",
       "  <thead>\n",
       "    <tr style=\"text-align: right;\">\n",
       "      <th></th>\n",
       "      <th>id</th>\n",
       "      <th>name</th>\n",
       "    </tr>\n",
       "  </thead>\n",
       "  <tbody>\n",
       "    <tr>\n",
       "      <th>0</th>\n",
       "      <td>153709120</td>\n",
       "      <td>갤럭시 중고폰</td>\n",
       "    </tr>\n",
       "    <tr>\n",
       "      <th>1</th>\n",
       "      <td>153709376</td>\n",
       "      <td>연예인 지갑 지갑</td>\n",
       "    </tr>\n",
       "    <tr>\n",
       "      <th>2</th>\n",
       "      <td>153710656</td>\n",
       "      <td>갤럭시s10 갤럭시북 NT950XDZ-G58AW 중고폰</td>\n",
       "    </tr>\n",
       "  </tbody>\n",
       "</table>\n",
       "</div>"
      ],
      "text/plain": [
       "          id                            name\n",
       "0  153709120                         갤럭시 중고폰\n",
       "1  153709376                       연예인 지갑 지갑\n",
       "2  153710656  갤럭시s10 갤럭시북 NT950XDZ-G58AW 중고폰"
      ]
     },
     "execution_count": 66,
     "metadata": {},
     "output_type": "execute_result"
    }
   ],
   "source": [
    "\n",
    "tmp_data = [[153709120,'갤럭시 중고폰'],[153709376,'연예인 지갑 지갑'],[153710656,'갤럭시s10 갤럭시북 NT950XDZ-G58AW 중고폰']]\n",
    "tmp = pd.DataFrame(tmp_data, columns=['id','name'])\n",
    "\n",
    "tmp.head()"
   ]
  },
  {
   "cell_type": "markdown",
   "id": "4f4f7a9f",
   "metadata": {},
   "source": [
    "## 1. 토큰화"
   ]
  },
  {
   "cell_type": "code",
   "execution_count": 67,
   "id": "22ce17c5",
   "metadata": {},
   "outputs": [],
   "source": [
    "def tokenizer(data):\n",
    "    #token=[]\n",
    "    token = ''\n",
    "\n",
    "    data = data.lower() #소문자로 변환\n",
    "\n",
    "    words = data.split() #공백으로 분리\n",
    "    #print(\"split \", words)\n",
    "\n",
    "    #규칙에 해당 -> findall\n",
    "    '''\n",
    "    - 공백 기준으로 분리\n",
    "    - 영어는 소문자로 변환\n",
    "    - 공백으로 분리된 텍스트 안에서 다음 규칙으로 토큰을 구분\n",
    "    - 연속된 한글 : [가-힣]+\n",
    "    - 연속된 자모 : [ㄱ-ㅎ|ㅏ-ㅣ]+\n",
    "    - 연속된 영문, 숫자, 하이픈(-) : [a-zA-Z0-9-]+\n",
    "    - 그 외 문자는 묶어서 하나로 취급 : [^ A-Za-z0-9가-힣+] (연속된 특수문자)\n",
    "    '''\n",
    "    p = re.compile(\"[가-힣]+|[ㄱ-ㅎ|ㅏ-ㅣ]+|[a-z0-9-]+|[^ a-z0-9가-힣+]\") #규칙\n",
    "\n",
    "    for word in words:\n",
    "        find = re.findall(p,word)\n",
    "        for w in find:\n",
    "            token=token+w+' '\n",
    "            #token.append(w)\n",
    "    return token"
   ]
  },
  {
   "cell_type": "code",
   "execution_count": 68,
   "id": "e56eda5a",
   "metadata": {},
   "outputs": [
    {
     "data": {
      "text/html": [
       "<div>\n",
       "<style scoped>\n",
       "    .dataframe tbody tr th:only-of-type {\n",
       "        vertical-align: middle;\n",
       "    }\n",
       "\n",
       "    .dataframe tbody tr th {\n",
       "        vertical-align: top;\n",
       "    }\n",
       "\n",
       "    .dataframe thead th {\n",
       "        text-align: right;\n",
       "    }\n",
       "</style>\n",
       "<table border=\"1\" class=\"dataframe\">\n",
       "  <thead>\n",
       "    <tr style=\"text-align: right;\">\n",
       "      <th></th>\n",
       "      <th>id</th>\n",
       "      <th>name</th>\n",
       "      <th>token</th>\n",
       "    </tr>\n",
       "  </thead>\n",
       "  <tbody>\n",
       "    <tr>\n",
       "      <th>0</th>\n",
       "      <td>153709120</td>\n",
       "      <td>갤럭시 중고폰</td>\n",
       "      <td>갤럭시 중고폰</td>\n",
       "    </tr>\n",
       "    <tr>\n",
       "      <th>1</th>\n",
       "      <td>153709376</td>\n",
       "      <td>연예인 지갑 지갑</td>\n",
       "      <td>연예인 지갑 지갑</td>\n",
       "    </tr>\n",
       "    <tr>\n",
       "      <th>2</th>\n",
       "      <td>153710656</td>\n",
       "      <td>갤럭시s10 갤럭시북 NT950XDZ-G58AW 중고폰</td>\n",
       "      <td>갤럭시 s10 갤럭시북 nt950xdz-g58aw 중고폰</td>\n",
       "    </tr>\n",
       "  </tbody>\n",
       "</table>\n",
       "</div>"
      ],
      "text/plain": [
       "          id                            name                             token\n",
       "0  153709120                         갤럭시 중고폰                          갤럭시 중고폰 \n",
       "1  153709376                       연예인 지갑 지갑                        연예인 지갑 지갑 \n",
       "2  153710656  갤럭시s10 갤럭시북 NT950XDZ-G58AW 중고폰  갤럭시 s10 갤럭시북 nt950xdz-g58aw 중고폰 "
      ]
     },
     "execution_count": 68,
     "metadata": {},
     "output_type": "execute_result"
    }
   ],
   "source": [
    "tmp['token']=tmp['name'].apply(tokenizer)\n",
    "tmp.head()"
   ]
  },
  {
   "cell_type": "markdown",
   "id": "a0d46fda",
   "metadata": {},
   "source": [
    "## 2.inverted index"
   ]
  },
  {
   "cell_type": "code",
   "execution_count": 69,
   "id": "dd75e91d",
   "metadata": {},
   "outputs": [
    {
     "data": {
      "text/plain": [
       "[{'id': 153709120, 'name': '갤럭시 중고폰', 'token': '갤럭시 중고폰 '},\n",
       " {'id': 153709376, 'name': '연예인 지갑 지갑', 'token': '연예인 지갑 지갑 '},\n",
       " {'id': 153710656,\n",
       "  'name': '갤럭시s10 갤럭시북 NT950XDZ-G58AW 중고폰',\n",
       "  'token': '갤럭시 s10 갤럭시북 nt950xdz-g58aw 중고폰 '}]"
      ]
     },
     "execution_count": 69,
     "metadata": {},
     "output_type": "execute_result"
    }
   ],
   "source": [
    "js = tmp.to_json(orient = 'records')\n",
    "json_data =json.loads(js)\n",
    "json_data"
   ]
  },
  {
   "cell_type": "code",
   "execution_count": 70,
   "id": "ac0aac8d",
   "metadata": {},
   "outputs": [
    {
     "name": "stdout",
     "output_type": "stream",
     "text": [
      "defaultdict(<class 'list'>, {'갤럭시': [153709120, 153710656], '중고폰': [153709120, 153710656], '연예인': [153709376], '지갑': [153709376, 153709376], 's10': [153710656], '갤럭시북': [153710656], 'nt950xdz-g58aw': [153710656]})\n"
     ]
    }
   ],
   "source": [
    "\n",
    "index_dict=defaultdict(list)\n",
    "\n",
    "for data in json_data:\n",
    "    for token in data['token'].split():\n",
    "            index_dict[token].append(data['id'])\n",
    "\n",
    "print(index_dict)\n",
    "\n",
    "p=pd.DataFrame(list(index_dict.items()),columns=['token', 'docu_list'])\n",
    "#p=p.set_index('token')\n"
   ]
  },
  {
   "cell_type": "code",
   "execution_count": 71,
   "id": "8015831b",
   "metadata": {},
   "outputs": [],
   "source": [
    "import pyarrow.parquet as pq\n",
    "table = pa.Table.from_pandas(p)\n",
    "pq.write_table(table, 'example.parquet')"
   ]
  },
  {
   "cell_type": "code",
   "execution_count": 72,
   "id": "00333ae3",
   "metadata": {},
   "outputs": [
    {
     "data": {
      "text/html": [
       "<div>\n",
       "<style scoped>\n",
       "    .dataframe tbody tr th:only-of-type {\n",
       "        vertical-align: middle;\n",
       "    }\n",
       "\n",
       "    .dataframe tbody tr th {\n",
       "        vertical-align: top;\n",
       "    }\n",
       "\n",
       "    .dataframe thead th {\n",
       "        text-align: right;\n",
       "    }\n",
       "</style>\n",
       "<table border=\"1\" class=\"dataframe\">\n",
       "  <thead>\n",
       "    <tr style=\"text-align: right;\">\n",
       "      <th></th>\n",
       "      <th>token</th>\n",
       "      <th>docu_list</th>\n",
       "    </tr>\n",
       "  </thead>\n",
       "  <tbody>\n",
       "    <tr>\n",
       "      <th>0</th>\n",
       "      <td>갤럭시</td>\n",
       "      <td>[153709120, 153710656]</td>\n",
       "    </tr>\n",
       "    <tr>\n",
       "      <th>1</th>\n",
       "      <td>중고폰</td>\n",
       "      <td>[153709120, 153710656]</td>\n",
       "    </tr>\n",
       "    <tr>\n",
       "      <th>2</th>\n",
       "      <td>연예인</td>\n",
       "      <td>[153709376]</td>\n",
       "    </tr>\n",
       "    <tr>\n",
       "      <th>3</th>\n",
       "      <td>지갑</td>\n",
       "      <td>[153709376, 153709376]</td>\n",
       "    </tr>\n",
       "    <tr>\n",
       "      <th>4</th>\n",
       "      <td>s10</td>\n",
       "      <td>[153710656]</td>\n",
       "    </tr>\n",
       "  </tbody>\n",
       "</table>\n",
       "</div>"
      ],
      "text/plain": [
       "  token               docu_list\n",
       "0   갤럭시  [153709120, 153710656]\n",
       "1   중고폰  [153709120, 153710656]\n",
       "2   연예인             [153709376]\n",
       "3    지갑  [153709376, 153709376]\n",
       "4   s10             [153710656]"
      ]
     },
     "execution_count": 72,
     "metadata": {},
     "output_type": "execute_result"
    }
   ],
   "source": [
    "index_df = pq.read_table('example.parquet').to_pandas()\n",
    "index_df.head()"
   ]
  },
  {
   "cell_type": "markdown",
   "id": "4e30983d",
   "metadata": {},
   "source": [
    "## 3.tf-idf 적용 (TfidfVectorizer )"
   ]
  },
  {
   "cell_type": "code",
   "execution_count": 73,
   "id": "42369bf1",
   "metadata": {},
   "outputs": [
    {
     "data": {
      "text/plain": [
       "array([[0.        , 0.        , 0.        , 0.70710678, 0.        ,\n",
       "        0.        , 0.70710678, 0.        ],\n",
       "       [0.        , 0.        , 0.        , 0.        , 0.        ,\n",
       "        0.4472136 , 0.        , 0.89442719],\n",
       "       [0.44036207, 0.44036207, 0.44036207, 0.3349067 , 0.44036207,\n",
       "        0.        , 0.3349067 , 0.        ]])"
      ]
     },
     "execution_count": 73,
     "metadata": {},
     "output_type": "execute_result"
    }
   ],
   "source": [
    "## token 많아질수록 벡터의 차원이 커지는 문제\n",
    "## 가장 많이 나온 단어 n개만 사용하는 max_features 파라미터 : TfidfVectorizer(max_features=4)\n",
    "## all_teokn = tmp['token ] : list\n",
    "\n",
    "words=tmp['token']\n",
    "#print(words)\n",
    "\n",
    "vect2 = TfidfVectorizer()\n",
    "tfvect_matrix = vect2.fit_transform(words)\n",
    "tfvect_matrix.toarray()"
   ]
  },
  {
   "cell_type": "code",
   "execution_count": 15,
   "id": "9568d576",
   "metadata": {},
   "outputs": [
    {
     "data": {
      "text/plain": [
       "['g58aw', 'nt950xdz', 's10', '갤럭시', '갤럭시북', '연예인', '중고폰', '지갑']"
      ]
     },
     "execution_count": 15,
     "metadata": {},
     "output_type": "execute_result"
    }
   ],
   "source": [
    "token_tf = vect2.get_feature_names() #유니크한 단어수\n",
    "token_tf"
   ]
  },
  {
   "cell_type": "code",
   "execution_count": 74,
   "id": "13ef1c82",
   "metadata": {},
   "outputs": [
    {
     "data": {
      "text/html": [
       "<div>\n",
       "<style scoped>\n",
       "    .dataframe tbody tr th:only-of-type {\n",
       "        vertical-align: middle;\n",
       "    }\n",
       "\n",
       "    .dataframe tbody tr th {\n",
       "        vertical-align: top;\n",
       "    }\n",
       "\n",
       "    .dataframe thead th {\n",
       "        text-align: right;\n",
       "    }\n",
       "</style>\n",
       "<table border=\"1\" class=\"dataframe\">\n",
       "  <thead>\n",
       "    <tr style=\"text-align: right;\">\n",
       "      <th></th>\n",
       "      <th>g58aw</th>\n",
       "      <th>nt950xdz</th>\n",
       "      <th>s10</th>\n",
       "      <th>갤럭시</th>\n",
       "      <th>갤럭시북</th>\n",
       "      <th>연예인</th>\n",
       "      <th>중고폰</th>\n",
       "      <th>지갑</th>\n",
       "    </tr>\n",
       "    <tr>\n",
       "      <th>id</th>\n",
       "      <th></th>\n",
       "      <th></th>\n",
       "      <th></th>\n",
       "      <th></th>\n",
       "      <th></th>\n",
       "      <th></th>\n",
       "      <th></th>\n",
       "      <th></th>\n",
       "    </tr>\n",
       "  </thead>\n",
       "  <tbody>\n",
       "    <tr>\n",
       "      <th>153709120</th>\n",
       "      <td>0.000000</td>\n",
       "      <td>0.000000</td>\n",
       "      <td>0.000000</td>\n",
       "      <td>0.707107</td>\n",
       "      <td>0.000000</td>\n",
       "      <td>0.000000</td>\n",
       "      <td>0.707107</td>\n",
       "      <td>0.000000</td>\n",
       "    </tr>\n",
       "    <tr>\n",
       "      <th>153709376</th>\n",
       "      <td>0.000000</td>\n",
       "      <td>0.000000</td>\n",
       "      <td>0.000000</td>\n",
       "      <td>0.000000</td>\n",
       "      <td>0.000000</td>\n",
       "      <td>0.447214</td>\n",
       "      <td>0.000000</td>\n",
       "      <td>0.894427</td>\n",
       "    </tr>\n",
       "    <tr>\n",
       "      <th>153710656</th>\n",
       "      <td>0.440362</td>\n",
       "      <td>0.440362</td>\n",
       "      <td>0.440362</td>\n",
       "      <td>0.334907</td>\n",
       "      <td>0.440362</td>\n",
       "      <td>0.000000</td>\n",
       "      <td>0.334907</td>\n",
       "      <td>0.000000</td>\n",
       "    </tr>\n",
       "  </tbody>\n",
       "</table>\n",
       "</div>"
      ],
      "text/plain": [
       "              g58aw  nt950xdz       s10       갤럭시      갤럭시북       연예인  \\\n",
       "id                                                                      \n",
       "153709120  0.000000  0.000000  0.000000  0.707107  0.000000  0.000000   \n",
       "153709376  0.000000  0.000000  0.000000  0.000000  0.000000  0.447214   \n",
       "153710656  0.440362  0.440362  0.440362  0.334907  0.440362  0.000000   \n",
       "\n",
       "                중고폰        지갑  \n",
       "id                             \n",
       "153709120  0.707107  0.000000  \n",
       "153709376  0.000000  0.894427  \n",
       "153710656  0.334907  0.000000  "
      ]
     },
     "execution_count": 74,
     "metadata": {},
     "output_type": "execute_result"
    }
   ],
   "source": [
    "## tf-idf적용한 결과 df로 생성 \n",
    "\n",
    "tfidv_df = pd.DataFrame(tfvect_matrix.toarray(), columns = sorted(token_tf))\n",
    "tfidv_df.index = tmp['id']\n",
    "tfidv_df"
   ]
  },
  {
   "cell_type": "markdown",
   "id": "292529ca",
   "metadata": {},
   "source": [
    "## 4. 검색어(query) 테스트\n",
    "\n",
    "- 입력한 키워드 토큰화 리스트 : q_token\n",
    "- reverted_index로 입력한 quey가 있는 문서id 리스트 리턴  \n",
    "- 문서들의 교집합을 찾음 : q_documents \n",
    "<br><br>\n",
    "- 교집합 문서들의 name : search_dc\n",
    "- 교집합 문서들의 td-idf(score) : search_tf\n",
    "- search_dc와 search_tf merge : search\n",
    "- score기준 내림차순 정렬 \n",
    "<br><br>\n",
    "- 최종결과 response message"
   ]
  },
  {
   "cell_type": "code",
   "execution_count": 115,
   "id": "39a5a6ed",
   "metadata": {},
   "outputs": [
    {
     "name": "stdout",
     "output_type": "stream",
     "text": [
      "['아이폰', '중고폰']\n"
     ]
    }
   ],
   "source": [
    "q = \"아이폰 중고폰\"\n",
    "#입력한 키워드 토큰화 \n",
    "token_list = tokenizer(q).split()\n",
    "print(token_list)"
   ]
  },
  {
   "cell_type": "code",
   "execution_count": 55,
   "id": "957b5a10",
   "metadata": {},
   "outputs": [
    {
     "name": "stdout",
     "output_type": "stream",
     "text": [
      "[153679680, 153682496]\n",
      "[153679680, 153682496]\n",
      "[{153679680, 153682496}, {153679680, 153682496}]\n",
      "[153679680, 153682496]\n"
     ]
    }
   ],
   "source": [
    "# index_dict 그대로 사용한 ver \n",
    "\n",
    "# query가 들어있는 문서id\n",
    "q_documents=[]\n",
    "for tk in token_list:\n",
    "    print(index_dict[tk])\n",
    "    q_documents.append(set(index_dict[tk])) \n",
    "print(q_documents)\n",
    "\n",
    "# 문서들의 교집합 \n",
    "query_documents = list(q_documents[0].intersection(*q_documents))\n",
    "print(query_documents)"
   ]
  },
  {
   "cell_type": "code",
   "execution_count": 117,
   "id": "1b5a2ee1",
   "metadata": {},
   "outputs": [
    {
     "name": "stdout",
     "output_type": "stream",
     "text": [
      "1\n",
      "[153709120, 153710656]\n"
     ]
    }
   ],
   "source": [
    "# 0831 : ndex_dict 파일로 바꾼 ver - 없는 키워드 입력 고려 \n",
    "\n",
    "q_documents=[]\n",
    "search_token =index_df[index_df['token'].isin(token_list)]\n",
    "print(search_token)\n",
    "\n",
    "new_token_list = list(search_token['token'])\n",
    "print(new_token_list) #없는 키워드제거 된 list \n",
    "\n",
    "if len(new_token_list) == 0:\n",
    "    print(\"없는 키워드\")\n",
    "\n",
    "for docu_list in search_token['docu_list']:\n",
    "    q_documents.append(set(docu_list))\n",
    "\n",
    "# 문서들의 교집합 \n",
    "query_documents = list(q_documents[0].intersection(*q_documents))\n",
    "\n",
    "print(query_documents)\n",
    "\n",
    "if len(query_documents) == 0:\n",
    "    print(\"교집합없음\")"
   ]
  },
  {
   "cell_type": "code",
   "execution_count": 113,
   "id": "edd3a57f",
   "metadata": {
    "scrolled": false
   },
   "outputs": [
    {
     "data": {
      "text/html": [
       "<div>\n",
       "<style scoped>\n",
       "    .dataframe tbody tr th:only-of-type {\n",
       "        vertical-align: middle;\n",
       "    }\n",
       "\n",
       "    .dataframe tbody tr th {\n",
       "        vertical-align: top;\n",
       "    }\n",
       "\n",
       "    .dataframe thead th {\n",
       "        text-align: right;\n",
       "    }\n",
       "</style>\n",
       "<table border=\"1\" class=\"dataframe\">\n",
       "  <thead>\n",
       "    <tr style=\"text-align: right;\">\n",
       "      <th></th>\n",
       "      <th>name</th>\n",
       "      <th>token</th>\n",
       "    </tr>\n",
       "    <tr>\n",
       "      <th>id</th>\n",
       "      <th></th>\n",
       "      <th></th>\n",
       "    </tr>\n",
       "  </thead>\n",
       "  <tbody>\n",
       "    <tr>\n",
       "      <th>153710656</th>\n",
       "      <td>갤럭시s10 갤럭시북 NT950XDZ-G58AW 중고폰</td>\n",
       "      <td>갤럭시 s10 갤럭시북 nt950xdz-g58aw 중고폰</td>\n",
       "    </tr>\n",
       "  </tbody>\n",
       "</table>\n",
       "</div>"
      ],
      "text/plain": [
       "                                     name                             token\n",
       "id                                                                         \n",
       "153710656  갤럭시s10 갤럭시북 NT950XDZ-G58AW 중고폰  갤럭시 s10 갤럭시북 nt950xdz-g58aw 중고폰 "
      ]
     },
     "execution_count": 113,
     "metadata": {},
     "output_type": "execute_result"
    },
    {
     "data": {
      "text/html": [
       "<div>\n",
       "<style scoped>\n",
       "    .dataframe tbody tr th:only-of-type {\n",
       "        vertical-align: middle;\n",
       "    }\n",
       "\n",
       "    .dataframe tbody tr th {\n",
       "        vertical-align: top;\n",
       "    }\n",
       "\n",
       "    .dataframe thead th {\n",
       "        text-align: right;\n",
       "    }\n",
       "</style>\n",
       "<table border=\"1\" class=\"dataframe\">\n",
       "  <thead>\n",
       "    <tr style=\"text-align: right;\">\n",
       "      <th></th>\n",
       "      <th>갤럭시</th>\n",
       "      <th>중고폰</th>\n",
       "      <th>s10</th>\n",
       "      <th>score</th>\n",
       "    </tr>\n",
       "    <tr>\n",
       "      <th>id</th>\n",
       "      <th></th>\n",
       "      <th></th>\n",
       "      <th></th>\n",
       "      <th></th>\n",
       "    </tr>\n",
       "  </thead>\n",
       "  <tbody>\n",
       "    <tr>\n",
       "      <th>153710656</th>\n",
       "      <td>0.334907</td>\n",
       "      <td>0.334907</td>\n",
       "      <td>0.440362</td>\n",
       "      <td>1.110175</td>\n",
       "    </tr>\n",
       "  </tbody>\n",
       "</table>\n",
       "</div>"
      ],
      "text/plain": [
       "                갤럭시       중고폰       s10     score\n",
       "id                                               \n",
       "153710656  0.334907  0.334907  0.440362  1.110175"
      ]
     },
     "execution_count": 113,
     "metadata": {},
     "output_type": "execute_result"
    },
    {
     "data": {
      "text/html": [
       "<div>\n",
       "<style scoped>\n",
       "    .dataframe tbody tr th:only-of-type {\n",
       "        vertical-align: middle;\n",
       "    }\n",
       "\n",
       "    .dataframe tbody tr th {\n",
       "        vertical-align: top;\n",
       "    }\n",
       "\n",
       "    .dataframe thead th {\n",
       "        text-align: right;\n",
       "    }\n",
       "</style>\n",
       "<table border=\"1\" class=\"dataframe\">\n",
       "  <thead>\n",
       "    <tr style=\"text-align: right;\">\n",
       "      <th></th>\n",
       "      <th>갤럭시</th>\n",
       "      <th>중고폰</th>\n",
       "      <th>s10</th>\n",
       "      <th>score</th>\n",
       "      <th>name</th>\n",
       "      <th>token</th>\n",
       "      <th>pid</th>\n",
       "    </tr>\n",
       "    <tr>\n",
       "      <th>id</th>\n",
       "      <th></th>\n",
       "      <th></th>\n",
       "      <th></th>\n",
       "      <th></th>\n",
       "      <th></th>\n",
       "      <th></th>\n",
       "      <th></th>\n",
       "    </tr>\n",
       "  </thead>\n",
       "  <tbody>\n",
       "    <tr>\n",
       "      <th>153710656</th>\n",
       "      <td>0.334907</td>\n",
       "      <td>0.334907</td>\n",
       "      <td>0.440362</td>\n",
       "      <td>1.110175</td>\n",
       "      <td>갤럭시s10 갤럭시북 NT950XDZ-G58AW 중고폰</td>\n",
       "      <td>갤럭시 s10 갤럭시북 nt950xdz-g58aw 중고폰</td>\n",
       "      <td>153710656</td>\n",
       "    </tr>\n",
       "  </tbody>\n",
       "</table>\n",
       "</div>"
      ],
      "text/plain": [
       "                갤럭시       중고폰       s10     score  \\\n",
       "id                                                  \n",
       "153710656  0.334907  0.334907  0.440362  1.110175   \n",
       "\n",
       "                                     name                             token  \\\n",
       "id                                                                            \n",
       "153710656  갤럭시s10 갤럭시북 NT950XDZ-G58AW 중고폰  갤럭시 s10 갤럭시북 nt950xdz-g58aw 중고폰    \n",
       "\n",
       "                 pid  \n",
       "id                    \n",
       "153710656  153710656  "
      ]
     },
     "execution_count": 113,
     "metadata": {},
     "output_type": "execute_result"
    }
   ],
   "source": [
    "#교집합 문서들의 id,name\n",
    "search_dc = tmp[tmp['id'].isin(query_documents)]\n",
    "search_dc=search_dc.set_index('id')\n",
    "search_dc\n",
    "\n",
    "#교집합 문서들에 대해서 tf-dif(score값)\n",
    "#tfidv_df.loc[query_documents] #교집합문서\n",
    "search_tf = tfidv_df.loc[query_documents][new_token_list] ## 여기에서 token_list에서 tokne에 없는게 있음 \n",
    "\n",
    "search_tf['score'] = search_tf.sum(axis=1)\n",
    "search_tf\n",
    "\n",
    "# search_dc와 search_tf join (by id)\n",
    "search=search_tf.join(search_dc,how='inner')\n",
    "search['pid']=search.index\n",
    "search.sort_values(by=['score'],ascending=[False],inplace=True) #score기준 정렬\n",
    "search"
   ]
  },
  {
   "cell_type": "code",
   "execution_count": 114,
   "id": "2731965c",
   "metadata": {},
   "outputs": [
    {
     "data": {
      "text/html": [
       "<div>\n",
       "<style scoped>\n",
       "    .dataframe tbody tr th:only-of-type {\n",
       "        vertical-align: middle;\n",
       "    }\n",
       "\n",
       "    .dataframe tbody tr th {\n",
       "        vertical-align: top;\n",
       "    }\n",
       "\n",
       "    .dataframe thead th {\n",
       "        text-align: right;\n",
       "    }\n",
       "</style>\n",
       "<table border=\"1\" class=\"dataframe\">\n",
       "  <thead>\n",
       "    <tr style=\"text-align: right;\">\n",
       "      <th></th>\n",
       "      <th>pid</th>\n",
       "      <th>name</th>\n",
       "      <th>score</th>\n",
       "    </tr>\n",
       "    <tr>\n",
       "      <th>id</th>\n",
       "      <th></th>\n",
       "      <th></th>\n",
       "      <th></th>\n",
       "    </tr>\n",
       "  </thead>\n",
       "  <tbody>\n",
       "    <tr>\n",
       "      <th>153710656</th>\n",
       "      <td>153710656</td>\n",
       "      <td>갤럭시s10 갤럭시북 NT950XDZ-G58AW 중고폰</td>\n",
       "      <td>1.110175</td>\n",
       "    </tr>\n",
       "  </tbody>\n",
       "</table>\n",
       "</div>"
      ],
      "text/plain": [
       "                 pid                            name     score\n",
       "id                                                            \n",
       "153710656  153710656  갤럭시s10 갤럭시북 NT950XDZ-G58AW 중고폰  1.110175"
      ]
     },
     "execution_count": 114,
     "metadata": {},
     "output_type": "execute_result"
    },
    {
     "data": {
      "text/plain": [
       "[{'pid': 153710656,\n",
       "  'name': '갤럭시s10 갤럭시북 NT950XDZ-G58AW 중고폰',\n",
       "  'score': 1.1101754726}]"
      ]
     },
     "execution_count": 114,
     "metadata": {},
     "output_type": "execute_result"
    }
   ],
   "source": [
    "# 최종결과 \n",
    "response = search[['pid','name','score']]\n",
    "response\n",
    "\n",
    "# response msg\n",
    "js = response.to_json(orient='records')\n",
    "res_data =json.loads(js)\n",
    "res_data"
   ]
  },
  {
   "cell_type": "code",
   "execution_count": null,
   "id": "434c4f05",
   "metadata": {},
   "outputs": [],
   "source": []
  }
 ],
 "metadata": {
  "kernelspec": {
   "display_name": "Python 3 (ipykernel)",
   "language": "python",
   "name": "python3"
  },
  "language_info": {
   "codemirror_mode": {
    "name": "ipython",
    "version": 3
   },
   "file_extension": ".py",
   "mimetype": "text/x-python",
   "name": "python",
   "nbconvert_exporter": "python",
   "pygments_lexer": "ipython3",
   "version": "3.8.7"
  }
 },
 "nbformat": 4,
 "nbformat_minor": 5
}
