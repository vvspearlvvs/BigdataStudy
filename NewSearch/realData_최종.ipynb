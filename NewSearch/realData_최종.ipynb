{
 "cells": [
  {
   "cell_type": "code",
   "execution_count": 1,
   "id": "89e3190d",
   "metadata": {},
   "outputs": [],
   "source": [
    "import pandas as pd\n",
    "import numpy as np\n",
    "import re,json\n",
    "\n",
    "import pyarrow as pa\n",
    "import pyarrow.parquet as pq\n",
    "import pyarrow.csv as pc\n",
    "import pandas as pd\n",
    "\n",
    "from collections import defaultdict\n",
    "\n",
    "from sklearn.feature_extraction.text import TfidfVectorizer\n",
    "\n",
    "from IPython.core.interactiveshell import InteractiveShell\n",
    "InteractiveShell.ast_node_interactivity = \"all\""
   ]
  },
  {
   "cell_type": "markdown",
   "id": "c31d8250",
   "metadata": {},
   "source": [
    "### 1. data확인"
   ]
  },
  {
   "cell_type": "code",
   "execution_count": 2,
   "id": "16663259",
   "metadata": {},
   "outputs": [
    {
     "data": {
      "text/html": [
       "<div>\n",
       "<style scoped>\n",
       "    .dataframe tbody tr th:only-of-type {\n",
       "        vertical-align: middle;\n",
       "    }\n",
       "\n",
       "    .dataframe tbody tr th {\n",
       "        vertical-align: top;\n",
       "    }\n",
       "\n",
       "    .dataframe thead th {\n",
       "        text-align: right;\n",
       "    }\n",
       "</style>\n",
       "<table border=\"1\" class=\"dataframe\">\n",
       "  <thead>\n",
       "    <tr style=\"text-align: right;\">\n",
       "      <th></th>\n",
       "      <th>id</th>\n",
       "      <th>name</th>\n",
       "    </tr>\n",
       "  </thead>\n",
       "  <tbody>\n",
       "    <tr>\n",
       "      <th>0</th>\n",
       "      <td>153679680</td>\n",
       "      <td>생로랑 풀스톤네일</td>\n",
       "    </tr>\n",
       "    <tr>\n",
       "      <th>1</th>\n",
       "      <td>153680960</td>\n",
       "      <td>고정 걸쇠 브라켓</td>\n",
       "    </tr>\n",
       "    <tr>\n",
       "      <th>2</th>\n",
       "      <td>153682496</td>\n",
       "      <td>마인크래프트 자바에디션</td>\n",
       "    </tr>\n",
       "    <tr>\n",
       "      <th>3</th>\n",
       "      <td>153683520</td>\n",
       "      <td>남성의류 1번 코오롱반바지</td>\n",
       "    </tr>\n",
       "    <tr>\n",
       "      <th>4</th>\n",
       "      <td>153683776</td>\n",
       "      <td>기프티콘</td>\n",
       "    </tr>\n",
       "  </tbody>\n",
       "</table>\n",
       "</div>"
      ],
      "text/plain": [
       "          id            name\n",
       "0  153679680       생로랑 풀스톤네일\n",
       "1  153680960       고정 걸쇠 브라켓\n",
       "2  153682496    마인크래프트 자바에디션\n",
       "3  153683520  남성의류 1번 코오롱반바지\n",
       "4  153683776            기프티콘"
      ]
     },
     "execution_count": 2,
     "metadata": {},
     "output_type": "execute_result"
    }
   ],
   "source": [
    "table = pc.read_csv(\"./prodct_name.tsv\",parse_options=pc.ParseOptions(delimiter=\"\\t\"))\n",
    "df=table.to_pandas()\n",
    "df.head()"
   ]
  },
  {
   "cell_type": "code",
   "execution_count": 3,
   "id": "8981af9b",
   "metadata": {},
   "outputs": [
    {
     "data": {
      "text/plain": [
       "(999943, 2)"
      ]
     },
     "execution_count": 3,
     "metadata": {},
     "output_type": "execute_result"
    },
    {
     "data": {
      "text/plain": [
       "id       int64\n",
       "name    object\n",
       "dtype: object"
      ]
     },
     "execution_count": 3,
     "metadata": {},
     "output_type": "execute_result"
    }
   ],
   "source": [
    "df.shape\n",
    "df.dtypes"
   ]
  },
  {
   "cell_type": "code",
   "execution_count": 4,
   "id": "73a4505f",
   "metadata": {},
   "outputs": [
    {
     "data": {
      "text/plain": [
       "id      0\n",
       "name    0\n",
       "dtype: int64"
      ]
     },
     "execution_count": 4,
     "metadata": {},
     "output_type": "execute_result"
    }
   ],
   "source": [
    "### null값 있는지 확인 : 없음\n",
    "\n",
    "df.isnull().sum()"
   ]
  },
  {
   "cell_type": "markdown",
   "id": "7c85746a",
   "metadata": {},
   "source": [
    "### 2. Token 확인"
   ]
  },
  {
   "cell_type": "code",
   "execution_count": 5,
   "id": "634378a4",
   "metadata": {},
   "outputs": [],
   "source": [
    "def tokenizer(data):\n",
    "    token=[]\n",
    "\n",
    "    data = data.lower() #소문자로 변환\n",
    "    words = data.split() #공백으로 분리\n",
    "    #print(\"split \", words)\n",
    "\n",
    "    #규칙에 해당 -> findall\n",
    "    p = re.compile(\"[가-힣]+|[ㄱ-ㅎ|ㅏ-ㅣ]+|[a-z0-9-]+|[^ a-z0-9가-힣+]\") #규칙\n",
    "\n",
    "    for word in words:\n",
    "        find = re.findall(p,word)\n",
    "        for w in find:\n",
    "            #token=token+w+' '\n",
    "            token.append(w)\n",
    "    return token"
   ]
  },
  {
   "cell_type": "code",
   "execution_count": 138,
   "id": "a9fd38cf",
   "metadata": {},
   "outputs": [],
   "source": [
    "query = \"아이폰8\"\n",
    "test1 = \"주술회전 ㅎㅅㅈ 학생 증 판매\"\n",
    "test2 = \"7번 라이젠2600 데스크탑 컴퓨터 본체PC 판매합니다\"\n",
    "test3 = \"블랙 메리제인[230/5cm]\"\n",
    "test4 = \"갤럭시s10 5g 255G 크라운실버 내용확인/19만원\""
   ]
  },
  {
   "cell_type": "code",
   "execution_count": 163,
   "id": "d5f0fada",
   "metadata": {},
   "outputs": [
    {
     "data": {
      "text/plain": [
       "'아이폰\\n8\\n'"
      ]
     },
     "execution_count": 163,
     "metadata": {},
     "output_type": "execute_result"
    },
    {
     "data": {
      "text/plain": [
       "'주술회전\\nㅎㅅㅈ\\n학생\\n증\\n판매\\n'"
      ]
     },
     "execution_count": 163,
     "metadata": {},
     "output_type": "execute_result"
    },
    {
     "data": {
      "text/plain": [
       "'7\\n번\\n라이젠\\n2600\\n데스크탑\\n컴퓨터\\n본체\\npc\\n판매합니다\\n'"
      ]
     },
     "execution_count": 163,
     "metadata": {},
     "output_type": "execute_result"
    },
    {
     "data": {
      "text/plain": [
       "'블랙\\n메리제인\\n[\\n230\\n/\\n5cm\\n]\\n'"
      ]
     },
     "execution_count": 163,
     "metadata": {},
     "output_type": "execute_result"
    },
    {
     "data": {
      "text/plain": [
       "'갤럭시\\ns10\\n5g\\n255g\\n크라운실버\\n내용확인\\n/\\n19\\n만원\\n'"
      ]
     },
     "execution_count": 163,
     "metadata": {},
     "output_type": "execute_result"
    }
   ],
   "source": [
    "tokenizer(query)\n",
    "tokenizer(test1)\n",
    "tokenizer(test2)\n",
    "tokenizer(test3)\n",
    "tokenizer(test4)"
   ]
  },
  {
   "cell_type": "code",
   "execution_count": 6,
   "id": "192668c0",
   "metadata": {},
   "outputs": [
    {
     "data": {
      "text/html": [
       "<div>\n",
       "<style scoped>\n",
       "    .dataframe tbody tr th:only-of-type {\n",
       "        vertical-align: middle;\n",
       "    }\n",
       "\n",
       "    .dataframe tbody tr th {\n",
       "        vertical-align: top;\n",
       "    }\n",
       "\n",
       "    .dataframe thead th {\n",
       "        text-align: right;\n",
       "    }\n",
       "</style>\n",
       "<table border=\"1\" class=\"dataframe\">\n",
       "  <thead>\n",
       "    <tr style=\"text-align: right;\">\n",
       "      <th></th>\n",
       "      <th>id</th>\n",
       "      <th>name</th>\n",
       "      <th>token</th>\n",
       "    </tr>\n",
       "  </thead>\n",
       "  <tbody>\n",
       "    <tr>\n",
       "      <th>999938</th>\n",
       "      <td>154650538</td>\n",
       "      <td>핑크에이지 오픈반가발 브리즈펌 아이보리골드</td>\n",
       "      <td>[핑크에이지, 오픈반가발, 브리즈펌, 아이보리골드]</td>\n",
       "    </tr>\n",
       "    <tr>\n",
       "      <th>999939</th>\n",
       "      <td>154650539</td>\n",
       "      <td>연예인들이 많이 입는 theory 수트셋업</td>\n",
       "      <td>[연예인들이, 많이, 입는, theory, 수트셋업]</td>\n",
       "    </tr>\n",
       "    <tr>\n",
       "      <th>999940</th>\n",
       "      <td>154650542</td>\n",
       "      <td>갤럭시S10 대량.소량 팝니다 중고폰 s10</td>\n",
       "      <td>[갤럭시, s10, 대량, ., 소량, 팝니다, 중고폰, s10]</td>\n",
       "    </tr>\n",
       "    <tr>\n",
       "      <th>999941</th>\n",
       "      <td>154650548</td>\n",
       "      <td>SSAMZIE 지갑</td>\n",
       "      <td>[ssamzie, 지갑]</td>\n",
       "    </tr>\n",
       "    <tr>\n",
       "      <th>999942</th>\n",
       "      <td>154650551</td>\n",
       "      <td>갤럭시북 이온2 NT950XDZ-G58AW 미개봉</td>\n",
       "      <td>[갤럭시북, 이온, 2, nt950xdz-g58aw, 미개봉]</td>\n",
       "    </tr>\n",
       "  </tbody>\n",
       "</table>\n",
       "</div>"
      ],
      "text/plain": [
       "               id                         name  \\\n",
       "999938  154650538      핑크에이지 오픈반가발 브리즈펌 아이보리골드   \n",
       "999939  154650539      연예인들이 많이 입는 theory 수트셋업   \n",
       "999940  154650542     갤럭시S10 대량.소량 팝니다 중고폰 s10   \n",
       "999941  154650548                   SSAMZIE 지갑   \n",
       "999942  154650551  갤럭시북 이온2 NT950XDZ-G58AW 미개봉   \n",
       "\n",
       "                                       token  \n",
       "999938          [핑크에이지, 오픈반가발, 브리즈펌, 아이보리골드]  \n",
       "999939         [연예인들이, 많이, 입는, theory, 수트셋업]  \n",
       "999940  [갤럭시, s10, 대량, ., 소량, 팝니다, 중고폰, s10]  \n",
       "999941                         [ssamzie, 지갑]  \n",
       "999942    [갤럭시북, 이온, 2, nt950xdz-g58aw, 미개봉]  "
      ]
     },
     "execution_count": 6,
     "metadata": {},
     "output_type": "execute_result"
    }
   ],
   "source": [
    "df['token'] = df['name'].apply(tokenizer)\n",
    "df.tail()"
   ]
  },
  {
   "cell_type": "markdown",
   "id": "574a4d39",
   "metadata": {},
   "source": [
    "## 3. invert inde파일 생성"
   ]
  },
  {
   "cell_type": "code",
   "execution_count": 7,
   "id": "cef1dfa9",
   "metadata": {},
   "outputs": [],
   "source": [
    "js = df.to_json(orient = 'records')\n",
    "json_data =json.loads(js)"
   ]
  },
  {
   "cell_type": "code",
   "execution_count": 9,
   "id": "1384d1ea",
   "metadata": {},
   "outputs": [],
   "source": [
    "\n",
    "index_dict=defaultdict(list)\n",
    "\n",
    "for data in json_data:\n",
    "    for token in data['token']:\n",
    "            index_dict[token].append(data['id'])\n",
    "\n",
    "p=pd.DataFrame(list(index_dict.items()),columns=['token', 'docu_list'])"
   ]
  },
  {
   "cell_type": "code",
   "execution_count": 10,
   "id": "9d6b6a4d",
   "metadata": {},
   "outputs": [],
   "source": [
    "table = pa.Table.from_pandas(p)\n",
    "pq.write_table(table, './data/real_index.parquet')"
   ]
  },
  {
   "cell_type": "code",
   "execution_count": 11,
   "id": "7712d45b",
   "metadata": {},
   "outputs": [
    {
     "data": {
      "text/html": [
       "<div>\n",
       "<style scoped>\n",
       "    .dataframe tbody tr th:only-of-type {\n",
       "        vertical-align: middle;\n",
       "    }\n",
       "\n",
       "    .dataframe tbody tr th {\n",
       "        vertical-align: top;\n",
       "    }\n",
       "\n",
       "    .dataframe thead th {\n",
       "        text-align: right;\n",
       "    }\n",
       "</style>\n",
       "<table border=\"1\" class=\"dataframe\">\n",
       "  <thead>\n",
       "    <tr style=\"text-align: right;\">\n",
       "      <th></th>\n",
       "      <th>token</th>\n",
       "      <th>docu_list</th>\n",
       "    </tr>\n",
       "  </thead>\n",
       "  <tbody>\n",
       "    <tr>\n",
       "      <th>0</th>\n",
       "      <td>생로랑</td>\n",
       "      <td>[153679680, 153883200, 153854475, 153932820, 1...</td>\n",
       "    </tr>\n",
       "    <tr>\n",
       "      <th>1</th>\n",
       "      <td>풀스톤네일</td>\n",
       "      <td>[153679680, 153681317]</td>\n",
       "    </tr>\n",
       "    <tr>\n",
       "      <th>2</th>\n",
       "      <td>고정</td>\n",
       "      <td>[153680960, 153957133, 154060025, 154167619, 1...</td>\n",
       "    </tr>\n",
       "    <tr>\n",
       "      <th>3</th>\n",
       "      <td>걸쇠</td>\n",
       "      <td>[153680960, 153681055, 153681628]</td>\n",
       "    </tr>\n",
       "    <tr>\n",
       "      <th>4</th>\n",
       "      <td>브라켓</td>\n",
       "      <td>[153680960, 153682720, 153892892, 153774321, 1...</td>\n",
       "    </tr>\n",
       "  </tbody>\n",
       "</table>\n",
       "</div>"
      ],
      "text/plain": [
       "   token                                          docu_list\n",
       "0    생로랑  [153679680, 153883200, 153854475, 153932820, 1...\n",
       "1  풀스톤네일                             [153679680, 153681317]\n",
       "2     고정  [153680960, 153957133, 154060025, 154167619, 1...\n",
       "3     걸쇠                  [153680960, 153681055, 153681628]\n",
       "4    브라켓  [153680960, 153682720, 153892892, 153774321, 1..."
      ]
     },
     "execution_count": 11,
     "metadata": {},
     "output_type": "execute_result"
    }
   ],
   "source": [
    "index_df = pq.read_table('./data/real_index.parquet').to_pandas()\n",
    "index_df.head()"
   ]
  },
  {
   "cell_type": "markdown",
   "id": "5215829a",
   "metadata": {},
   "source": [
    "## 4. tf-idf 파일생성"
   ]
  },
  {
   "cell_type": "code",
   "execution_count": 77,
   "id": "16c898b7",
   "metadata": {},
   "outputs": [],
   "source": [
    "## token 많아질수록 벡터의 차원이 커지는 문제\n",
    "## 가장 많이 나온 단어 n개만 사용하는 max_features 파라미터 : TfidfVectorizer(max_features=4)\n",
    "## all_teokn = tmp['token ] : list\n",
    "\n",
    "vect2 = TfidfVectorizer(tokenizer=tokenizer,max_features=100)\n",
    "tfvect_matrix = vect2.fit_transform(df['name'])\n",
    "#tfvect_matrix.toarray()\n",
    "\n",
    "tfidf_col = vect2.get_feature_names() \n",
    "\n",
    "tfidv_df = pd.DataFrame(tfvect_matrix.toarray(), index = list(df['id']), columns = sorted(tfidf_col))\n",
    "#tfidv_df.head()"
   ]
  },
  {
   "cell_type": "markdown",
   "id": "75c053aa",
   "metadata": {},
   "source": [
    "### 전체데이터로 tf-idf생성시 mastrix이 너무 커서 메모리 이슈 발생\n",
    "- 가장 많이 나온 단어 n개만 사용하는 max_features 파라미터 : TfidfVectorizer(max_features=4)"
   ]
  },
  {
   "cell_type": "code",
   "execution_count": null,
   "id": "151c9272",
   "metadata": {},
   "outputs": [],
   "source": [
    "table = pa.Table.from_pandas(tfidv_df)\n",
    "pq.write_table(table, './data/real_tfidv.parquet')"
   ]
  },
  {
   "cell_type": "code",
   "execution_count": 64,
   "id": "09cd23ba",
   "metadata": {},
   "outputs": [
    {
     "data": {
      "text/html": [
       "<div>\n",
       "<style scoped>\n",
       "    .dataframe tbody tr th:only-of-type {\n",
       "        vertical-align: middle;\n",
       "    }\n",
       "\n",
       "    .dataframe tbody tr th {\n",
       "        vertical-align: top;\n",
       "    }\n",
       "\n",
       "    .dataframe thead th {\n",
       "        text-align: right;\n",
       "    }\n",
       "</style>\n",
       "<table border=\"1\" class=\"dataframe\">\n",
       "  <thead>\n",
       "    <tr style=\"text-align: right;\">\n",
       "      <th></th>\n",
       "      <th>!</th>\n",
       "      <th>#</th>\n",
       "      <th>%</th>\n",
       "      <th>(</th>\n",
       "      <th>)</th>\n",
       "      <th>*</th>\n",
       "      <th>,</th>\n",
       "      <th>-</th>\n",
       "      <th>.</th>\n",
       "      <th>/</th>\n",
       "      <th>...</th>\n",
       "      <th>티셔츠</th>\n",
       "      <th>판매</th>\n",
       "      <th>판매합니다</th>\n",
       "      <th>팔아요</th>\n",
       "      <th>팝니다</th>\n",
       "      <th>포카</th>\n",
       "      <th>폴로</th>\n",
       "      <th>프로</th>\n",
       "      <th>플러스</th>\n",
       "      <th>화이트</th>\n",
       "    </tr>\n",
       "  </thead>\n",
       "  <tbody>\n",
       "    <tr>\n",
       "      <th>153679680</th>\n",
       "      <td>0.0</td>\n",
       "      <td>0.0</td>\n",
       "      <td>0.0</td>\n",
       "      <td>0.0</td>\n",
       "      <td>0.0</td>\n",
       "      <td>0.0</td>\n",
       "      <td>0.0</td>\n",
       "      <td>0.0</td>\n",
       "      <td>0.0</td>\n",
       "      <td>0.0</td>\n",
       "      <td>...</td>\n",
       "      <td>0.0</td>\n",
       "      <td>0.0</td>\n",
       "      <td>0.0</td>\n",
       "      <td>0.0</td>\n",
       "      <td>0.0</td>\n",
       "      <td>0.0</td>\n",
       "      <td>0.0</td>\n",
       "      <td>0.0</td>\n",
       "      <td>0.0</td>\n",
       "      <td>0.0</td>\n",
       "    </tr>\n",
       "    <tr>\n",
       "      <th>153680960</th>\n",
       "      <td>0.0</td>\n",
       "      <td>0.0</td>\n",
       "      <td>0.0</td>\n",
       "      <td>0.0</td>\n",
       "      <td>0.0</td>\n",
       "      <td>0.0</td>\n",
       "      <td>0.0</td>\n",
       "      <td>0.0</td>\n",
       "      <td>0.0</td>\n",
       "      <td>0.0</td>\n",
       "      <td>...</td>\n",
       "      <td>0.0</td>\n",
       "      <td>0.0</td>\n",
       "      <td>0.0</td>\n",
       "      <td>0.0</td>\n",
       "      <td>0.0</td>\n",
       "      <td>0.0</td>\n",
       "      <td>0.0</td>\n",
       "      <td>0.0</td>\n",
       "      <td>0.0</td>\n",
       "      <td>0.0</td>\n",
       "    </tr>\n",
       "    <tr>\n",
       "      <th>153682496</th>\n",
       "      <td>0.0</td>\n",
       "      <td>0.0</td>\n",
       "      <td>0.0</td>\n",
       "      <td>0.0</td>\n",
       "      <td>0.0</td>\n",
       "      <td>0.0</td>\n",
       "      <td>0.0</td>\n",
       "      <td>0.0</td>\n",
       "      <td>0.0</td>\n",
       "      <td>0.0</td>\n",
       "      <td>...</td>\n",
       "      <td>0.0</td>\n",
       "      <td>0.0</td>\n",
       "      <td>0.0</td>\n",
       "      <td>0.0</td>\n",
       "      <td>0.0</td>\n",
       "      <td>0.0</td>\n",
       "      <td>0.0</td>\n",
       "      <td>0.0</td>\n",
       "      <td>0.0</td>\n",
       "      <td>0.0</td>\n",
       "    </tr>\n",
       "    <tr>\n",
       "      <th>153683520</th>\n",
       "      <td>0.0</td>\n",
       "      <td>0.0</td>\n",
       "      <td>0.0</td>\n",
       "      <td>0.0</td>\n",
       "      <td>0.0</td>\n",
       "      <td>0.0</td>\n",
       "      <td>0.0</td>\n",
       "      <td>0.0</td>\n",
       "      <td>0.0</td>\n",
       "      <td>0.0</td>\n",
       "      <td>...</td>\n",
       "      <td>0.0</td>\n",
       "      <td>0.0</td>\n",
       "      <td>0.0</td>\n",
       "      <td>0.0</td>\n",
       "      <td>0.0</td>\n",
       "      <td>0.0</td>\n",
       "      <td>0.0</td>\n",
       "      <td>0.0</td>\n",
       "      <td>0.0</td>\n",
       "      <td>0.0</td>\n",
       "    </tr>\n",
       "    <tr>\n",
       "      <th>153683776</th>\n",
       "      <td>0.0</td>\n",
       "      <td>0.0</td>\n",
       "      <td>0.0</td>\n",
       "      <td>0.0</td>\n",
       "      <td>0.0</td>\n",
       "      <td>0.0</td>\n",
       "      <td>0.0</td>\n",
       "      <td>0.0</td>\n",
       "      <td>0.0</td>\n",
       "      <td>0.0</td>\n",
       "      <td>...</td>\n",
       "      <td>0.0</td>\n",
       "      <td>0.0</td>\n",
       "      <td>0.0</td>\n",
       "      <td>0.0</td>\n",
       "      <td>0.0</td>\n",
       "      <td>0.0</td>\n",
       "      <td>0.0</td>\n",
       "      <td>0.0</td>\n",
       "      <td>0.0</td>\n",
       "      <td>0.0</td>\n",
       "    </tr>\n",
       "  </tbody>\n",
       "</table>\n",
       "<p>5 rows × 100 columns</p>\n",
       "</div>"
      ],
      "text/plain": [
       "             !    #    %    (    )    *    ,    -    .    /  ...  티셔츠   판매  \\\n",
       "153679680  0.0  0.0  0.0  0.0  0.0  0.0  0.0  0.0  0.0  0.0  ...  0.0  0.0   \n",
       "153680960  0.0  0.0  0.0  0.0  0.0  0.0  0.0  0.0  0.0  0.0  ...  0.0  0.0   \n",
       "153682496  0.0  0.0  0.0  0.0  0.0  0.0  0.0  0.0  0.0  0.0  ...  0.0  0.0   \n",
       "153683520  0.0  0.0  0.0  0.0  0.0  0.0  0.0  0.0  0.0  0.0  ...  0.0  0.0   \n",
       "153683776  0.0  0.0  0.0  0.0  0.0  0.0  0.0  0.0  0.0  0.0  ...  0.0  0.0   \n",
       "\n",
       "           판매합니다  팔아요  팝니다   포카   폴로   프로  플러스  화이트  \n",
       "153679680    0.0  0.0  0.0  0.0  0.0  0.0  0.0  0.0  \n",
       "153680960    0.0  0.0  0.0  0.0  0.0  0.0  0.0  0.0  \n",
       "153682496    0.0  0.0  0.0  0.0  0.0  0.0  0.0  0.0  \n",
       "153683520    0.0  0.0  0.0  0.0  0.0  0.0  0.0  0.0  \n",
       "153683776    0.0  0.0  0.0  0.0  0.0  0.0  0.0  0.0  \n",
       "\n",
       "[5 rows x 100 columns]"
      ]
     },
     "execution_count": 64,
     "metadata": {},
     "output_type": "execute_result"
    }
   ],
   "source": [
    "tfidv_df_file = pq.read_table('./data/real_tfidv.parquet').to_pandas()\n",
    "#tfidv_df_file.head()"
   ]
  },
  {
   "cell_type": "markdown",
   "id": "ff92aec4",
   "metadata": {},
   "source": [
    "### 5. 검색어 테스트"
   ]
  },
  {
   "cell_type": "code",
   "execution_count": 122,
   "id": "4bb42f41",
   "metadata": {},
   "outputs": [],
   "source": [
    "### 1. token_list : tokenizer에 의해 분리"
   ]
  },
  {
   "cell_type": "code",
   "execution_count": 160,
   "id": "5ac1637a",
   "metadata": {},
   "outputs": [
    {
     "name": "stdout",
     "output_type": "stream",
     "text": [
      "['맥북', 'm1', '13', '인치', '미개봉']\n"
     ]
    }
   ],
   "source": [
    "q = \"맥북m1 13인치 미개봉\"\n",
    "#입력한 키워드 토큰화 \n",
    "token_list = tokenizer(q)\n",
    "print(token_list)"
   ]
  },
  {
   "cell_type": "code",
   "execution_count": 161,
   "id": "810a61be",
   "metadata": {},
   "outputs": [],
   "source": [
    "### 2. new_token_list : token_list 중에서 index_df에 검색한 token list"
   ]
  },
  {
   "cell_type": "code",
   "execution_count": 162,
   "id": "4a75998c",
   "metadata": {},
   "outputs": [
    {
     "name": "stdout",
     "output_type": "stream",
     "text": [
      "['인치', '미개봉', '13', 'm1', '맥북']\n",
      "11\n"
     ]
    }
   ],
   "source": [
    "# 0831 : ndex_dict 파일로 바꾼 ver - 없는 키워드 입력 고려 \n",
    "\n",
    "search_token =index_df[index_df['token'].isin(token_list)]\n",
    "#print(search_token)\n",
    "\n",
    "new_token_list = list(search_token['token'])\n",
    "print(new_token_list) \n",
    "\n",
    "if len(new_token_list) == 0:\n",
    "    print(\"없는 키워드\")\n",
    "\n",
    "q_documents=[]\n",
    "for docu_list in search_token['docu_list']:\n",
    "    q_documents.append(set(docu_list))\n",
    "\n",
    "# 문서들의 교집합 \n",
    "query_documents = list(q_documents[0].intersection(*q_documents))\n",
    "print(len(query_documents))\n",
    "\n",
    "if len(query_documents) == 0:\n",
    "    print(\"교집합없음\")"
   ]
  },
  {
   "cell_type": "code",
   "execution_count": 163,
   "id": "ea25ce2a",
   "metadata": {},
   "outputs": [
    {
     "data": {
      "text/plain": [
       "['인치', '미개봉', '13', 'm1', '맥북']"
      ]
     },
     "execution_count": 163,
     "metadata": {},
     "output_type": "execute_result"
    },
    {
     "data": {
      "text/html": [
       "<div>\n",
       "<style scoped>\n",
       "    .dataframe tbody tr th:only-of-type {\n",
       "        vertical-align: middle;\n",
       "    }\n",
       "\n",
       "    .dataframe tbody tr th {\n",
       "        vertical-align: top;\n",
       "    }\n",
       "\n",
       "    .dataframe thead th {\n",
       "        text-align: right;\n",
       "    }\n",
       "</style>\n",
       "<table border=\"1\" class=\"dataframe\">\n",
       "  <thead>\n",
       "    <tr style=\"text-align: right;\">\n",
       "      <th></th>\n",
       "      <th>name</th>\n",
       "      <th>token</th>\n",
       "    </tr>\n",
       "    <tr>\n",
       "      <th>id</th>\n",
       "      <th></th>\n",
       "      <th></th>\n",
       "    </tr>\n",
       "  </thead>\n",
       "  <tbody>\n",
       "    <tr>\n",
       "      <th>153957513</th>\n",
       "      <td>맥북 프로 13인치 m1 512gb 스그 미개봉 새상품 판매합니다</td>\n",
       "      <td>[맥북, 프로, 13, 인치, m1, 512gb, 스그, 미개봉, 새상품, 판매합니다]</td>\n",
       "    </tr>\n",
       "    <tr>\n",
       "      <th>153911702</th>\n",
       "      <td>미개봉/ 애플 맥북 에어 13인치 M1 스페이스 그레이 256g 최저가</td>\n",
       "      <td>[미개봉, /, 애플, 맥북, 에어, 13, 인치, m1, 스페이스, 그레이, 25...</td>\n",
       "    </tr>\n",
       "    <tr>\n",
       "      <th>153767101</th>\n",
       "      <td>(미개봉) 맥북 프로 2020 M1칩 256기가 13인치 팝니다</td>\n",
       "      <td>[(, 미개봉, ), 맥북, 프로, 2020, m1, 칩, 256, 기가, 13, ...</td>\n",
       "    </tr>\n",
       "    <tr>\n",
       "      <th>154330471</th>\n",
       "      <td>맥북 프로 m1 13인치 기본형 미개봉</td>\n",
       "      <td>[맥북, 프로, m1, 13, 인치, 기본형, 미개봉]</td>\n",
       "    </tr>\n",
       "    <tr>\n",
       "      <th>154420300</th>\n",
       "      <td>맥북 프로 m1 13인치 램16GB 미개봉 삽니다</td>\n",
       "      <td>[맥북, 프로, m1, 13, 인치, 램, 16gb, 미개봉, 삽니다]</td>\n",
       "    </tr>\n",
       "  </tbody>\n",
       "</table>\n",
       "</div>"
      ],
      "text/plain": [
       "                                              name  \\\n",
       "id                                                   \n",
       "153957513     맥북 프로 13인치 m1 512gb 스그 미개봉 새상품 판매합니다   \n",
       "153911702  미개봉/ 애플 맥북 에어 13인치 M1 스페이스 그레이 256g 최저가   \n",
       "153767101      (미개봉) 맥북 프로 2020 M1칩 256기가 13인치 팝니다   \n",
       "154330471                    맥북 프로 m1 13인치 기본형 미개봉   \n",
       "154420300              맥북 프로 m1 13인치 램16GB 미개봉 삽니다   \n",
       "\n",
       "                                                       token  \n",
       "id                                                            \n",
       "153957513   [맥북, 프로, 13, 인치, m1, 512gb, 스그, 미개봉, 새상품, 판매합니다]  \n",
       "153911702  [미개봉, /, 애플, 맥북, 에어, 13, 인치, m1, 스페이스, 그레이, 25...  \n",
       "153767101  [(, 미개봉, ), 맥북, 프로, 2020, m1, 칩, 256, 기가, 13, ...  \n",
       "154330471                     [맥북, 프로, m1, 13, 인치, 기본형, 미개봉]  \n",
       "154420300            [맥북, 프로, m1, 13, 인치, 램, 16gb, 미개봉, 삽니다]  "
      ]
     },
     "execution_count": 163,
     "metadata": {},
     "output_type": "execute_result"
    }
   ],
   "source": [
    "new_token_list\n",
    "\n",
    "#교집합 문서들의 id,name\n",
    "search_dc = df[df['id'].isin(query_documents)] #id기준(행기준) 검색\n",
    "search_dc=search_dc.set_index('id')\n",
    "\n",
    "search_dc.head()"
   ]
  },
  {
   "cell_type": "markdown",
   "id": "45937082",
   "metadata": {},
   "source": [
    "### 검색한 키워드(new_token_list)중에 tf-idf의 컬럼으로 안들어있는게 있을때 문제\n",
    "- 예를 들어, 검색한 키워드는 ['맨투맨', '톰브라운', '정품'] \n",
    "- 그런데 TfidfVectorizer옵션에서 메모리이슈문제로 feature를 100개만 뽑다보니 없는 키워드가 존재 \n",
    "- KeyError: \"['톰브라운'] not in index\"\n",
    "<br><br>\n",
    "- tfidv_df의 column로 현재 feature에 있는 키워드 list(new_token_list2)생성\n",
    "- tfidv_df에서 검색"
   ]
  },
  {
   "cell_type": "code",
   "execution_count": 164,
   "id": "ae5b688c",
   "metadata": {},
   "outputs": [],
   "source": [
    "### 3. new_token_list2 : new_token_list 중에서 tfidv_df 검색한 token list"
   ]
  },
  {
   "cell_type": "code",
   "execution_count": 165,
   "id": "04624959",
   "metadata": {},
   "outputs": [
    {
     "data": {
      "text/html": [
       "<div>\n",
       "<style scoped>\n",
       "    .dataframe tbody tr th:only-of-type {\n",
       "        vertical-align: middle;\n",
       "    }\n",
       "\n",
       "    .dataframe tbody tr th {\n",
       "        vertical-align: top;\n",
       "    }\n",
       "\n",
       "    .dataframe thead th {\n",
       "        text-align: right;\n",
       "    }\n",
       "</style>\n",
       "<table border=\"1\" class=\"dataframe\">\n",
       "  <thead>\n",
       "    <tr style=\"text-align: right;\">\n",
       "      <th></th>\n",
       "      <th>인치</th>\n",
       "      <th>미개봉</th>\n",
       "      <th>score</th>\n",
       "    </tr>\n",
       "  </thead>\n",
       "  <tbody>\n",
       "    <tr>\n",
       "      <th>154638051</th>\n",
       "      <td>0.715301</td>\n",
       "      <td>0.698816</td>\n",
       "      <td>1.414117</td>\n",
       "    </tr>\n",
       "    <tr>\n",
       "      <th>154330471</th>\n",
       "      <td>0.560861</td>\n",
       "      <td>0.547935</td>\n",
       "      <td>1.108796</td>\n",
       "    </tr>\n",
       "    <tr>\n",
       "      <th>154637224</th>\n",
       "      <td>0.500556</td>\n",
       "      <td>0.489020</td>\n",
       "      <td>0.989576</td>\n",
       "    </tr>\n",
       "    <tr>\n",
       "      <th>153957513</th>\n",
       "      <td>0.467213</td>\n",
       "      <td>0.456445</td>\n",
       "      <td>0.923658</td>\n",
       "    </tr>\n",
       "    <tr>\n",
       "      <th>154420300</th>\n",
       "      <td>0.475147</td>\n",
       "      <td>0.464196</td>\n",
       "      <td>0.939343</td>\n",
       "    </tr>\n",
       "  </tbody>\n",
       "</table>\n",
       "</div>"
      ],
      "text/plain": [
       "                 인치       미개봉     score\n",
       "154638051  0.715301  0.698816  1.414117\n",
       "154330471  0.560861  0.547935  1.108796\n",
       "154637224  0.500556  0.489020  0.989576\n",
       "153957513  0.467213  0.456445  0.923658\n",
       "154420300  0.475147  0.464196  0.939343"
      ]
     },
     "execution_count": 165,
     "metadata": {},
     "output_type": "execute_result"
    }
   ],
   "source": [
    "#[tfidv_df.loc[query_documents][i] for i in new_token_list if i in tfidv_df.columns]\n",
    "\n",
    "#교집합 문서들에 대해서 tf-dif(score값)\n",
    "#tfidv_df.loc[query_documents] #교집합문서\n",
    "new_token_list2 =[]\n",
    "for token in new_token_list:\n",
    "    if token in tfidv_df.columns:\n",
    "        new_token_list2.append(token)\n",
    "\n",
    "search_tf = tfidv_df.loc[query_documents][new_token_list2] ## 여기에서 token_list에서 tokne에 없는게 있음 \n",
    "\n",
    "search_tf['score'] = search_tf.sum(axis=1)\n",
    "search_tf.head()"
   ]
  },
  {
   "cell_type": "code",
   "execution_count": 166,
   "id": "978948d3",
   "metadata": {},
   "outputs": [
    {
     "data": {
      "text/html": [
       "<div>\n",
       "<style scoped>\n",
       "    .dataframe tbody tr th:only-of-type {\n",
       "        vertical-align: middle;\n",
       "    }\n",
       "\n",
       "    .dataframe tbody tr th {\n",
       "        vertical-align: top;\n",
       "    }\n",
       "\n",
       "    .dataframe thead th {\n",
       "        text-align: right;\n",
       "    }\n",
       "</style>\n",
       "<table border=\"1\" class=\"dataframe\">\n",
       "  <thead>\n",
       "    <tr style=\"text-align: right;\">\n",
       "      <th></th>\n",
       "      <th>인치</th>\n",
       "      <th>미개봉</th>\n",
       "      <th>score</th>\n",
       "      <th>name</th>\n",
       "      <th>token</th>\n",
       "      <th>pid</th>\n",
       "    </tr>\n",
       "  </thead>\n",
       "  <tbody>\n",
       "    <tr>\n",
       "      <th>154638051</th>\n",
       "      <td>0.715301</td>\n",
       "      <td>0.698816</td>\n",
       "      <td>1.414117</td>\n",
       "      <td>M1 맥북 에어 13인치 기본형 256GB 스페이스그레이 미개봉</td>\n",
       "      <td>[m1, 맥북, 에어, 13, 인치, 기본형, 256gb, 스페이스그레이, 미개봉]</td>\n",
       "      <td>154638051</td>\n",
       "    </tr>\n",
       "    <tr>\n",
       "      <th>153911702</th>\n",
       "      <td>0.623155</td>\n",
       "      <td>0.608794</td>\n",
       "      <td>1.231948</td>\n",
       "      <td>미개봉/ 애플 맥북 에어 13인치 M1 스페이스 그레이 256g 최저가</td>\n",
       "      <td>[미개봉, /, 애플, 맥북, 에어, 13, 인치, m1, 스페이스, 그레이, 25...</td>\n",
       "      <td>153911702</td>\n",
       "    </tr>\n",
       "    <tr>\n",
       "      <th>154330471</th>\n",
       "      <td>0.560861</td>\n",
       "      <td>0.547935</td>\n",
       "      <td>1.108796</td>\n",
       "      <td>맥북 프로 m1 13인치 기본형 미개봉</td>\n",
       "      <td>[맥북, 프로, m1, 13, 인치, 기본형, 미개봉]</td>\n",
       "      <td>154330471</td>\n",
       "    </tr>\n",
       "    <tr>\n",
       "      <th>154450284</th>\n",
       "      <td>0.560861</td>\n",
       "      <td>0.547935</td>\n",
       "      <td>1.108796</td>\n",
       "      <td>맥북 프로 13인치 M1 512G 2020년형 미개봉</td>\n",
       "      <td>[맥북, 프로, 13, 인치, m1, 512g, 2020, 년형, 미개봉]</td>\n",
       "      <td>154450284</td>\n",
       "    </tr>\n",
       "    <tr>\n",
       "      <th>154672987</th>\n",
       "      <td>0.560861</td>\n",
       "      <td>0.547935</td>\n",
       "      <td>1.108796</td>\n",
       "      <td>맥북 프로 M1 13인치 512GB 스그 미개봉</td>\n",
       "      <td>[맥북, 프로, m1, 13, 인치, 512gb, 스그, 미개봉]</td>\n",
       "      <td>154672987</td>\n",
       "    </tr>\n",
       "  </tbody>\n",
       "</table>\n",
       "</div>"
      ],
      "text/plain": [
       "                 인치       미개봉     score  \\\n",
       "154638051  0.715301  0.698816  1.414117   \n",
       "153911702  0.623155  0.608794  1.231948   \n",
       "154330471  0.560861  0.547935  1.108796   \n",
       "154450284  0.560861  0.547935  1.108796   \n",
       "154672987  0.560861  0.547935  1.108796   \n",
       "\n",
       "                                              name  \\\n",
       "154638051      M1 맥북 에어 13인치 기본형 256GB 스페이스그레이 미개봉   \n",
       "153911702  미개봉/ 애플 맥북 에어 13인치 M1 스페이스 그레이 256g 최저가   \n",
       "154330471                    맥북 프로 m1 13인치 기본형 미개봉   \n",
       "154450284            맥북 프로 13인치 M1 512G 2020년형 미개봉   \n",
       "154672987               맥북 프로 M1 13인치 512GB 스그 미개봉   \n",
       "\n",
       "                                                       token        pid  \n",
       "154638051     [m1, 맥북, 에어, 13, 인치, 기본형, 256gb, 스페이스그레이, 미개봉]  154638051  \n",
       "153911702  [미개봉, /, 애플, 맥북, 에어, 13, 인치, m1, 스페이스, 그레이, 25...  153911702  \n",
       "154330471                     [맥북, 프로, m1, 13, 인치, 기본형, 미개봉]  154330471  \n",
       "154450284          [맥북, 프로, 13, 인치, m1, 512g, 2020, 년형, 미개봉]  154450284  \n",
       "154672987               [맥북, 프로, m1, 13, 인치, 512gb, 스그, 미개봉]  154672987  "
      ]
     },
     "execution_count": 166,
     "metadata": {},
     "output_type": "execute_result"
    }
   ],
   "source": [
    "\n",
    "# search_dc와 search_tf join (by id)\n",
    "search=search_tf.join(search_dc,how='inner')\n",
    "search['pid']=search.index\n",
    "\n",
    "search.sort_values(by=['score'],ascending=[False],inplace=True) #score기준 정렬\n",
    "search.head()"
   ]
  },
  {
   "cell_type": "code",
   "execution_count": 167,
   "id": "1d6a222b",
   "metadata": {},
   "outputs": [
    {
     "data": {
      "text/html": [
       "<div>\n",
       "<style scoped>\n",
       "    .dataframe tbody tr th:only-of-type {\n",
       "        vertical-align: middle;\n",
       "    }\n",
       "\n",
       "    .dataframe tbody tr th {\n",
       "        vertical-align: top;\n",
       "    }\n",
       "\n",
       "    .dataframe thead th {\n",
       "        text-align: right;\n",
       "    }\n",
       "</style>\n",
       "<table border=\"1\" class=\"dataframe\">\n",
       "  <thead>\n",
       "    <tr style=\"text-align: right;\">\n",
       "      <th></th>\n",
       "      <th>pid</th>\n",
       "      <th>name</th>\n",
       "      <th>score</th>\n",
       "    </tr>\n",
       "  </thead>\n",
       "  <tbody>\n",
       "    <tr>\n",
       "      <th>154638051</th>\n",
       "      <td>154638051</td>\n",
       "      <td>M1 맥북 에어 13인치 기본형 256GB 스페이스그레이 미개봉</td>\n",
       "      <td>1.414117</td>\n",
       "    </tr>\n",
       "    <tr>\n",
       "      <th>153911702</th>\n",
       "      <td>153911702</td>\n",
       "      <td>미개봉/ 애플 맥북 에어 13인치 M1 스페이스 그레이 256g 최저가</td>\n",
       "      <td>1.231948</td>\n",
       "    </tr>\n",
       "    <tr>\n",
       "      <th>154330471</th>\n",
       "      <td>154330471</td>\n",
       "      <td>맥북 프로 m1 13인치 기본형 미개봉</td>\n",
       "      <td>1.108796</td>\n",
       "    </tr>\n",
       "    <tr>\n",
       "      <th>154450284</th>\n",
       "      <td>154450284</td>\n",
       "      <td>맥북 프로 13인치 M1 512G 2020년형 미개봉</td>\n",
       "      <td>1.108796</td>\n",
       "    </tr>\n",
       "    <tr>\n",
       "      <th>154672987</th>\n",
       "      <td>154672987</td>\n",
       "      <td>맥북 프로 M1 13인치 512GB 스그 미개봉</td>\n",
       "      <td>1.108796</td>\n",
       "    </tr>\n",
       "  </tbody>\n",
       "</table>\n",
       "</div>"
      ],
      "text/plain": [
       "                 pid                                     name     score\n",
       "154638051  154638051      M1 맥북 에어 13인치 기본형 256GB 스페이스그레이 미개봉  1.414117\n",
       "153911702  153911702  미개봉/ 애플 맥북 에어 13인치 M1 스페이스 그레이 256g 최저가  1.231948\n",
       "154330471  154330471                    맥북 프로 m1 13인치 기본형 미개봉  1.108796\n",
       "154450284  154450284            맥북 프로 13인치 M1 512G 2020년형 미개봉  1.108796\n",
       "154672987  154672987               맥북 프로 M1 13인치 512GB 스그 미개봉  1.108796"
      ]
     },
     "execution_count": 167,
     "metadata": {},
     "output_type": "execute_result"
    },
    {
     "data": {
      "text/plain": [
       "[{'pid': 154638051,\n",
       "  'name': 'M1 맥북 에어 13인치 기본형 256GB 스페이스그레이 미개봉',\n",
       "  'score': 1.4141174789},\n",
       " {'pid': 153911702,\n",
       "  'name': '미개봉/ 애플 맥북 에어 13인치 M1 스페이스 그레이 256g 최저가',\n",
       "  'score': 1.2319484653},\n",
       " {'pid': 154330471, 'name': '맥북 프로 m1 13인치 기본형 미개봉', 'score': 1.1087962006},\n",
       " {'pid': 154450284,\n",
       "  'name': '맥북 프로 13인치 M1 512G 2020년형 미개봉',\n",
       "  'score': 1.1087962006},\n",
       " {'pid': 154672987,\n",
       "  'name': '맥북 프로 M1 13인치 512GB 스그 미개봉',\n",
       "  'score': 1.1087962006},\n",
       " {'pid': 154637224,\n",
       "  'name': '맥북 프로 M1 13인치 2020년형 512G 그레이 미개봉 ! 부산중고',\n",
       "  'score': 0.9895757488},\n",
       " {'pid': 154420300,\n",
       "  'name': '맥북 프로 m1 13인치 램16GB 미개봉 삽니다',\n",
       "  'score': 0.9393429483},\n",
       " {'pid': 153957513,\n",
       "  'name': '맥북 프로 13인치 m1 512gb 스그 미개봉 새상품 판매합니다',\n",
       "  'score': 0.9236575966},\n",
       " {'pid': 154047517,\n",
       "  'name': '맥북 프로 13인치 M1 8gb 512GB 스그 미개봉 새상품 판매합니다',\n",
       "  'score': 0.9236575966},\n",
       " {'pid': 153767474,\n",
       "  'name': '(미개봉) 맥북 프로 2020 M1칩 256기가 13인치 팝니다',\n",
       "  'score': 0.8407174596},\n",
       " {'pid': 153767101,\n",
       "  'name': '(미개봉) 맥북 프로 2020 M1칩 256기가 13인치 팝니다',\n",
       "  'score': 0.8407174596}]"
      ]
     },
     "execution_count": 167,
     "metadata": {},
     "output_type": "execute_result"
    }
   ],
   "source": [
    "# 최종결과 \n",
    "response = search[['pid','name','score']]\n",
    "response.head()\n",
    "\n",
    "# response msg\n",
    "js = response.to_json(orient='records')\n",
    "res_data =json.loads(js)\n",
    "res_data"
   ]
  },
  {
   "cell_type": "code",
   "execution_count": null,
   "id": "40454bd0",
   "metadata": {},
   "outputs": [],
   "source": []
  },
  {
   "cell_type": "code",
   "execution_count": null,
   "id": "6cfdadf9",
   "metadata": {},
   "outputs": [],
   "source": []
  }
 ],
 "metadata": {
  "kernelspec": {
   "display_name": "Python 3 (ipykernel)",
   "language": "python",
   "name": "python3"
  },
  "language_info": {
   "codemirror_mode": {
    "name": "ipython",
    "version": 3
   },
   "file_extension": ".py",
   "mimetype": "text/x-python",
   "name": "python",
   "nbconvert_exporter": "python",
   "pygments_lexer": "ipython3",
   "version": "3.8.7"
  }
 },
 "nbformat": 4,
 "nbformat_minor": 5
}
